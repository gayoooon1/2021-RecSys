{
  "nbformat": 4,
  "nbformat_minor": 0,
  "metadata": {
    "colab": {
      "name": "Matrix-Factorization.ipynb",
      "provenance": [],
      "collapsed_sections": [
        "PN1sEqi9HiYu",
        "l9hF4PHlHnqE",
        "1zQUv5tc0ZFJ",
        "Iw-k_N0kv3aJ",
        "v0OcQ0yRK6Go",
        "oyTMfW5EoaTO",
        "YFY_FL5ayQwq",
        "Ra5Lk3FtQSsG",
        "wS_xvidR3NEJ",
        "sfeqEGSy1Jv-",
        "yIVIpe88DkM9"
      ],
      "authorship_tag": "ABX9TyND86DMAuIRXh5zyHeS17nt",
      "include_colab_link": true
    },
    "kernelspec": {
      "name": "python3",
      "display_name": "Python 3"
    },
    "language_info": {
      "name": "python"
    }
  },
  "cells": [
    {
      "cell_type": "markdown",
      "metadata": {
        "id": "view-in-github",
        "colab_type": "text"
      },
      "source": [
        "<a href=\"https://colab.research.google.com/github/gayoooon1/2021-RecSys/blob/main/Matrix_Factorization.ipynb\" target=\"_parent\"><img src=\"https://colab.research.google.com/assets/colab-badge.svg\" alt=\"Open In Colab\"/></a>"
      ]
    },
    {
      "cell_type": "markdown",
      "metadata": {
        "id": "sBM_N9iWv5_y"
      },
      "source": [
        "# Matrix Factorization"
      ]
    },
    {
      "cell_type": "markdown",
      "metadata": {
        "id": "klXxKI1sw5z8"
      },
      "source": [
        "이번주에는 SVD 사용법을 익히면 좋겠어요. SVD로 결과 까지 나오면 좋겠지만, 단계적으로 접근을 하고자 합니다. SVD가 무엇이고, Truncated SVD를 어떻게 하면 좋은지 한번 읽어보고 자료들도 찾아보세요. 그리고 유튜브에도 강좌가 많을거에요. 우리가 사용할 matrix는 user-item matrix가 됩니다."
      ]
    },
    {
      "cell_type": "markdown",
      "metadata": {
        "id": "QjstubApwKaF"
      },
      "source": [
        "## 전처리"
      ]
    },
    {
      "cell_type": "code",
      "metadata": {
        "colab": {
          "base_uri": "https://localhost:8080/"
        },
        "id": "faKkBOIo9DTc",
        "outputId": "9a76eb1f-d6e9-4c22-e8ff-d6e869ef92ff"
      },
      "source": [
        "from google.colab import drive\n",
        "drive.mount('/content/drive')"
      ],
      "execution_count": null,
      "outputs": [
        {
          "output_type": "stream",
          "text": [
            "Mounted at /content/drive\n"
          ],
          "name": "stdout"
        }
      ]
    },
    {
      "cell_type": "code",
      "metadata": {
        "colab": {
          "base_uri": "https://localhost:8080/"
        },
        "id": "gHL1mC-09dwl",
        "outputId": "e5ac6d3a-4188-446b-9f40-275ca5d6f289"
      },
      "source": [
        "cd drive/MyDrive/DEEPLEARNING/ml-1m"
      ],
      "execution_count": null,
      "outputs": [
        {
          "output_type": "stream",
          "text": [
            "/content/drive/MyDrive/DEEPLEARNING/ml-1m\n"
          ],
          "name": "stdout"
        }
      ]
    },
    {
      "cell_type": "code",
      "metadata": {
        "id": "SYIpweAb9eXl"
      },
      "source": [
        "import pandas as pd\n",
        "import warnings\n",
        "import numpy as np\n",
        "warnings.filterwarnings(action='ignore')"
      ],
      "execution_count": null,
      "outputs": []
    },
    {
      "cell_type": "code",
      "metadata": {
        "id": "FkgrxsEUiU8N"
      },
      "source": [
        "# visualization\n",
        "import seaborn as sns\n",
        "import matplotlib.pyplot as plt"
      ],
      "execution_count": null,
      "outputs": []
    },
    {
      "cell_type": "code",
      "metadata": {
        "id": "G4syBbM29hPQ"
      },
      "source": [
        "movies = pd.read_csv('movies.dat', header=None, sep='::', names=[\"movie_id\", \"title\", \"genres\"], encoding='latin-1', engine='python')\n",
        "ratings = pd.read_csv('ratings.dat', header=None, sep='::', names = ['user_id', 'movie_id', 'rating', 'unix_timestamp'], encoding='latin-1', engine='python')\n",
        "users = pd.read_csv('users.dat',  header=None, sep='::', names=['user_id', 'sex', 'age', 'occupation', 'zip_code'],encoding='latin-1', engine='python', index_col = 'user_id')"
      ],
      "execution_count": null,
      "outputs": []
    },
    {
      "cell_type": "markdown",
      "metadata": {
        "id": "PN1sEqi9HiYu"
      },
      "source": [
        "## User 전처리"
      ]
    },
    {
      "cell_type": "code",
      "metadata": {
        "colab": {
          "base_uri": "https://localhost:8080/"
        },
        "id": "tdevYGdN-QTE",
        "outputId": "6670fe75-3513-402a-9382-1d9e8cb1cd88"
      },
      "source": [
        "users.isnull().sum()"
      ],
      "execution_count": null,
      "outputs": [
        {
          "output_type": "execute_result",
          "data": {
            "text/plain": [
              "sex           0\n",
              "age           0\n",
              "occupation    0\n",
              "zip_code      0\n",
              "dtype: int64"
            ]
          },
          "metadata": {
            "tags": []
          },
          "execution_count": 21
        }
      ]
    },
    {
      "cell_type": "code",
      "metadata": {
        "colab": {
          "base_uri": "https://localhost:8080/",
          "height": 235
        },
        "id": "TPZA66BFjNvR",
        "outputId": "1808ea06-7b3a-457d-be0a-d6e7c26ce4a8"
      },
      "source": [
        "sex_mapping = {'M':0, 'F':1}\n",
        "users['sex'] = users['sex'].map(sex_mapping)\n",
        "users.head()"
      ],
      "execution_count": null,
      "outputs": [
        {
          "output_type": "execute_result",
          "data": {
            "text/html": [
              "<div>\n",
              "<style scoped>\n",
              "    .dataframe tbody tr th:only-of-type {\n",
              "        vertical-align: middle;\n",
              "    }\n",
              "\n",
              "    .dataframe tbody tr th {\n",
              "        vertical-align: top;\n",
              "    }\n",
              "\n",
              "    .dataframe thead th {\n",
              "        text-align: right;\n",
              "    }\n",
              "</style>\n",
              "<table border=\"1\" class=\"dataframe\">\n",
              "  <thead>\n",
              "    <tr style=\"text-align: right;\">\n",
              "      <th></th>\n",
              "      <th>sex</th>\n",
              "      <th>age</th>\n",
              "      <th>occupation</th>\n",
              "      <th>zip_code</th>\n",
              "    </tr>\n",
              "    <tr>\n",
              "      <th>user_id</th>\n",
              "      <th></th>\n",
              "      <th></th>\n",
              "      <th></th>\n",
              "      <th></th>\n",
              "    </tr>\n",
              "  </thead>\n",
              "  <tbody>\n",
              "    <tr>\n",
              "      <th>1</th>\n",
              "      <td>1</td>\n",
              "      <td>1</td>\n",
              "      <td>10</td>\n",
              "      <td>48067</td>\n",
              "    </tr>\n",
              "    <tr>\n",
              "      <th>2</th>\n",
              "      <td>0</td>\n",
              "      <td>56</td>\n",
              "      <td>16</td>\n",
              "      <td>70072</td>\n",
              "    </tr>\n",
              "    <tr>\n",
              "      <th>3</th>\n",
              "      <td>0</td>\n",
              "      <td>25</td>\n",
              "      <td>15</td>\n",
              "      <td>55117</td>\n",
              "    </tr>\n",
              "    <tr>\n",
              "      <th>4</th>\n",
              "      <td>0</td>\n",
              "      <td>45</td>\n",
              "      <td>7</td>\n",
              "      <td>02460</td>\n",
              "    </tr>\n",
              "    <tr>\n",
              "      <th>5</th>\n",
              "      <td>0</td>\n",
              "      <td>25</td>\n",
              "      <td>20</td>\n",
              "      <td>55455</td>\n",
              "    </tr>\n",
              "  </tbody>\n",
              "</table>\n",
              "</div>"
            ],
            "text/plain": [
              "         sex  age  occupation zip_code\n",
              "user_id                               \n",
              "1          1    1          10    48067\n",
              "2          0   56          16    70072\n",
              "3          0   25          15    55117\n",
              "4          0   45           7    02460\n",
              "5          0   25          20    55455"
            ]
          },
          "metadata": {
            "tags": []
          },
          "execution_count": 7
        }
      ]
    },
    {
      "cell_type": "code",
      "metadata": {
        "colab": {
          "base_uri": "https://localhost:8080/",
          "height": 243
        },
        "id": "8mnOUxIsismj",
        "outputId": "ca9f9238-09fb-48aa-c35b-d9e82126bd94"
      },
      "source": [
        "g = sns.FacetGrid(users, col = 'sex')\n",
        "g.map(plt.hist, 'age', bins=20)"
      ],
      "execution_count": null,
      "outputs": [
        {
          "output_type": "execute_result",
          "data": {
            "text/plain": [
              "<seaborn.axisgrid.FacetGrid at 0x7ff580255610>"
            ]
          },
          "metadata": {
            "tags": []
          },
          "execution_count": 10
        },
        {
          "output_type": "display_data",
          "data": {
            "image/png": "[encoded data removed]",
            "text/plain": [
              "<Figure size 432x216 with 2 Axes>"
            ]
          },
          "metadata": {
            "tags": [],
            "needs_background": "light"
          }
        }
      ]
    },
    {
      "cell_type": "code",
      "metadata": {
        "colab": {
          "base_uri": "https://localhost:8080/",
          "height": 243
        },
        "id": "YEOmFZHnm_60",
        "outputId": "2d63fdfb-292e-46d3-93df-8bcb240c8992"
      },
      "source": [
        "g = sns.FacetGrid(users, col = 'sex')\n",
        "g.map(plt.hist, 'occupation', bins=20)"
      ],
      "execution_count": null,
      "outputs": [
        {
          "output_type": "execute_result",
          "data": {
            "text/plain": [
              "<seaborn.axisgrid.FacetGrid at 0x7ff5802c0950>"
            ]
          },
          "metadata": {
            "tags": []
          },
          "execution_count": 11
        },
        {
          "output_type": "display_data",
          "data": {
            "image/png": "[encoded data removed]",
            "text/plain": [
              "<Figure size 432x216 with 2 Axes>"
            ]
          },
          "metadata": {
            "tags": [],
            "needs_background": "light"
          }
        }
      ]
    },
    {
      "cell_type": "markdown",
      "metadata": {
        "id": "ESgXi9CLj-V4"
      },
      "source": [
        "나이를 크게 0-20, 20-40, 40- 이렇게 나눌 수 있겠다."
      ]
    },
    {
      "cell_type": "code",
      "metadata": {
        "id": "-FnosG2Kp7Jh"
      },
      "source": [
        "users.drop('zip_code', axis=1, inplace=True)"
      ],
      "execution_count": null,
      "outputs": []
    },
    {
      "cell_type": "code",
      "metadata": {
        "id": "weKak_3Oq9Ui"
      },
      "source": [
        "def age_detect(n):\n",
        "  if (n>0) & (n<21):\n",
        "    n=0\n",
        "    return n\n",
        "  elif (n>20) & (n<41):\n",
        "    n=1\n",
        "    return n\n",
        "  else: \n",
        "     n=2\n",
        "     return n"
      ],
      "execution_count": null,
      "outputs": []
    },
    {
      "cell_type": "code",
      "metadata": {
        "id": "agdVB0ilsEV1"
      },
      "source": [
        "users['age'] = users['age'].apply(age_detect)"
      ],
      "execution_count": null,
      "outputs": []
    },
    {
      "cell_type": "code",
      "metadata": {
        "colab": {
          "base_uri": "https://localhost:8080/",
          "height": 235
        },
        "id": "rTxjc2XrsGHm",
        "outputId": "b985119a-46ce-4238-9f72-56ec36f6f296"
      },
      "source": [
        "users.head()"
      ],
      "execution_count": null,
      "outputs": [
        {
          "output_type": "execute_result",
          "data": {
            "text/html": [
              "<div>\n",
              "<style scoped>\n",
              "    .dataframe tbody tr th:only-of-type {\n",
              "        vertical-align: middle;\n",
              "    }\n",
              "\n",
              "    .dataframe tbody tr th {\n",
              "        vertical-align: top;\n",
              "    }\n",
              "\n",
              "    .dataframe thead th {\n",
              "        text-align: right;\n",
              "    }\n",
              "</style>\n",
              "<table border=\"1\" class=\"dataframe\">\n",
              "  <thead>\n",
              "    <tr style=\"text-align: right;\">\n",
              "      <th></th>\n",
              "      <th>sex</th>\n",
              "      <th>age</th>\n",
              "      <th>occupation</th>\n",
              "    </tr>\n",
              "    <tr>\n",
              "      <th>user_id</th>\n",
              "      <th></th>\n",
              "      <th></th>\n",
              "      <th></th>\n",
              "    </tr>\n",
              "  </thead>\n",
              "  <tbody>\n",
              "    <tr>\n",
              "      <th>1</th>\n",
              "      <td>1</td>\n",
              "      <td>0</td>\n",
              "      <td>10</td>\n",
              "    </tr>\n",
              "    <tr>\n",
              "      <th>2</th>\n",
              "      <td>0</td>\n",
              "      <td>2</td>\n",
              "      <td>16</td>\n",
              "    </tr>\n",
              "    <tr>\n",
              "      <th>3</th>\n",
              "      <td>0</td>\n",
              "      <td>1</td>\n",
              "      <td>15</td>\n",
              "    </tr>\n",
              "    <tr>\n",
              "      <th>4</th>\n",
              "      <td>0</td>\n",
              "      <td>2</td>\n",
              "      <td>7</td>\n",
              "    </tr>\n",
              "    <tr>\n",
              "      <th>5</th>\n",
              "      <td>0</td>\n",
              "      <td>1</td>\n",
              "      <td>20</td>\n",
              "    </tr>\n",
              "  </tbody>\n",
              "</table>\n",
              "</div>"
            ],
            "text/plain": [
              "         sex  age  occupation\n",
              "user_id                      \n",
              "1          1    0          10\n",
              "2          0    2          16\n",
              "3          0    1          15\n",
              "4          0    2           7\n",
              "5          0    1          20"
            ]
          },
          "metadata": {
            "tags": []
          },
          "execution_count": 15
        }
      ]
    },
    {
      "cell_type": "markdown",
      "metadata": {
        "id": "l9hF4PHlHnqE"
      },
      "source": [
        "## Ratings 전처리"
      ]
    },
    {
      "cell_type": "code",
      "metadata": {
        "id": "hocKy_JAA-3D"
      },
      "source": [
        "ratings = ratings[ratings['rating']>2]\n",
        "ratings.drop('unix_timestamp',axis=1, inplace=True)"
      ],
      "execution_count": null,
      "outputs": []
    },
    {
      "cell_type": "code",
      "metadata": {
        "id": "B5VHAvNonLVq"
      },
      "source": [
        "ratings.rating = 1"
      ],
      "execution_count": null,
      "outputs": []
    },
    {
      "cell_type": "markdown",
      "metadata": {
        "id": "1zQUv5tc0ZFJ"
      },
      "source": [
        "## Train, Test Split"
      ]
    },
    {
      "cell_type": "code",
      "metadata": {
        "id": "L-SkJoz80bmf"
      },
      "source": [
        "from sklearn.model_selection import train_test_split\n",
        "train, test = train_test_split(ratings, test_size = 0.05, random_state = 42)"
      ],
      "execution_count": null,
      "outputs": []
    },
    {
      "cell_type": "markdown",
      "metadata": {
        "id": "Iw-k_N0kv3aJ"
      },
      "source": [
        "## Group"
      ]
    },
    {
      "cell_type": "code",
      "metadata": {
        "id": "SHr7KRB8v4ym"
      },
      "source": [
        "group_base = pd.merge(train,users, on='user_id')"
      ],
      "execution_count": null,
      "outputs": []
    },
    {
      "cell_type": "code",
      "metadata": {
        "colab": {
          "base_uri": "https://localhost:8080/",
          "height": 450
        },
        "id": "2ROvzDzdw__y",
        "outputId": "ba068824-9e1c-49c8-dae5-425fc1c792cf"
      },
      "source": [
        "group_base.set_index('user_id')"
      ],
      "execution_count": null,
      "outputs": [
        {
          "output_type": "execute_result",
          "data": {
            "text/html": [
              "<div>\n",
              "<style scoped>\n",
              "    .dataframe tbody tr th:only-of-type {\n",
              "        vertical-align: middle;\n",
              "    }\n",
              "\n",
              "    .dataframe tbody tr th {\n",
              "        vertical-align: top;\n",
              "    }\n",
              "\n",
              "    .dataframe thead th {\n",
              "        text-align: right;\n",
              "    }\n",
              "</style>\n",
              "<table border=\"1\" class=\"dataframe\">\n",
              "  <thead>\n",
              "    <tr style=\"text-align: right;\">\n",
              "      <th></th>\n",
              "      <th>movie_id</th>\n",
              "      <th>rating</th>\n",
              "      <th>sex</th>\n",
              "      <th>age</th>\n",
              "      <th>occupation</th>\n",
              "    </tr>\n",
              "    <tr>\n",
              "      <th>user_id</th>\n",
              "      <th></th>\n",
              "      <th></th>\n",
              "      <th></th>\n",
              "      <th></th>\n",
              "      <th></th>\n",
              "    </tr>\n",
              "  </thead>\n",
              "  <tbody>\n",
              "    <tr>\n",
              "      <th>3697</th>\n",
              "      <td>16</td>\n",
              "      <td>1</td>\n",
              "      <td>0</td>\n",
              "      <td>1</td>\n",
              "      <td>15</td>\n",
              "    </tr>\n",
              "    <tr>\n",
              "      <th>3697</th>\n",
              "      <td>1387</td>\n",
              "      <td>1</td>\n",
              "      <td>0</td>\n",
              "      <td>1</td>\n",
              "      <td>15</td>\n",
              "    </tr>\n",
              "    <tr>\n",
              "      <th>3697</th>\n",
              "      <td>2140</td>\n",
              "      <td>1</td>\n",
              "      <td>0</td>\n",
              "      <td>1</td>\n",
              "      <td>15</td>\n",
              "    </tr>\n",
              "    <tr>\n",
              "      <th>3697</th>\n",
              "      <td>2694</td>\n",
              "      <td>1</td>\n",
              "      <td>0</td>\n",
              "      <td>1</td>\n",
              "      <td>15</td>\n",
              "    </tr>\n",
              "    <tr>\n",
              "      <th>3697</th>\n",
              "      <td>2701</td>\n",
              "      <td>1</td>\n",
              "      <td>0</td>\n",
              "      <td>1</td>\n",
              "      <td>15</td>\n",
              "    </tr>\n",
              "    <tr>\n",
              "      <th>...</th>\n",
              "      <td>...</td>\n",
              "      <td>...</td>\n",
              "      <td>...</td>\n",
              "      <td>...</td>\n",
              "      <td>...</td>\n",
              "    </tr>\n",
              "    <tr>\n",
              "      <th>572</th>\n",
              "      <td>3623</td>\n",
              "      <td>1</td>\n",
              "      <td>0</td>\n",
              "      <td>0</td>\n",
              "      <td>4</td>\n",
              "    </tr>\n",
              "    <tr>\n",
              "      <th>572</th>\n",
              "      <td>3408</td>\n",
              "      <td>1</td>\n",
              "      <td>0</td>\n",
              "      <td>0</td>\n",
              "      <td>4</td>\n",
              "    </tr>\n",
              "    <tr>\n",
              "      <th>572</th>\n",
              "      <td>3861</td>\n",
              "      <td>1</td>\n",
              "      <td>0</td>\n",
              "      <td>0</td>\n",
              "      <td>4</td>\n",
              "    </tr>\n",
              "    <tr>\n",
              "      <th>572</th>\n",
              "      <td>2006</td>\n",
              "      <td>1</td>\n",
              "      <td>0</td>\n",
              "      <td>0</td>\n",
              "      <td>4</td>\n",
              "    </tr>\n",
              "    <tr>\n",
              "      <th>572</th>\n",
              "      <td>3616</td>\n",
              "      <td>1</td>\n",
              "      <td>0</td>\n",
              "      <td>0</td>\n",
              "      <td>4</td>\n",
              "    </tr>\n",
              "  </tbody>\n",
              "</table>\n",
              "<p>794654 rows × 5 columns</p>\n",
              "</div>"
            ],
            "text/plain": [
              "         movie_id  rating  sex  age  occupation\n",
              "user_id                                        \n",
              "3697           16       1    0    1          15\n",
              "3697         1387       1    0    1          15\n",
              "3697         2140       1    0    1          15\n",
              "3697         2694       1    0    1          15\n",
              "3697         2701       1    0    1          15\n",
              "...           ...     ...  ...  ...         ...\n",
              "572          3623       1    0    0           4\n",
              "572          3408       1    0    0           4\n",
              "572          3861       1    0    0           4\n",
              "572          2006       1    0    0           4\n",
              "572          3616       1    0    0           4\n",
              "\n",
              "[794654 rows x 5 columns]"
            ]
          },
          "metadata": {
            "tags": []
          },
          "execution_count": 110
        }
      ]
    },
    {
      "cell_type": "code",
      "metadata": {
        "id": "3-M6OBGIxDDF"
      },
      "source": [
        "# age 0,1,2\n",
        "# sex 0,1\n",
        "# total 6 경우의 수\n",
        "m_low = group_base[(group_base['age']==0) & group_base['sex']==0].groupby('movie_id').size().sort_values(ascending=False).index[:50].tolist()\n",
        "f_low = group_base[(group_base['age']==0) & group_base['sex']==1].groupby('movie_id').size().sort_values(ascending=False).index[:50].tolist()\n",
        "m_mid = group_base[(group_base['age']==1) & group_base['sex']==0].groupby('movie_id').size().sort_values(ascending=False).index[:50].tolist()\n",
        "f_mid = group_base[(group_base['age']==1) & group_base['sex']==1].groupby('movie_id').size().sort_values(ascending=False).index[:50].tolist()\n",
        "m_high = group_base[(group_base['age']==2) & group_base['sex']==0].groupby('movie_id').size().sort_values(ascending=False).index[:50].tolist()\n",
        "f_high =  group_base[(group_base['age']==2) & group_base['sex']==1].groupby('movie_id').size().sort_values(ascending=False).index[:50].tolist()"
      ],
      "execution_count": null,
      "outputs": []
    },
    {
      "cell_type": "code",
      "metadata": {
        "colab": {
          "base_uri": "https://localhost:8080/",
          "height": 204
        },
        "id": "h-sKGjPy8mqA",
        "outputId": "d42f82c8-c5b2-4a03-c402-dcb98d72f520"
      },
      "source": [
        "group_test = pd.merge(test,users, on='user_id')\n",
        "group_test.drop('occupation',axis=1,inplace=True)\n",
        "group_test.head()"
      ],
      "execution_count": null,
      "outputs": [
        {
          "output_type": "execute_result",
          "data": {
            "text/html": [
              "<div>\n",
              "<style scoped>\n",
              "    .dataframe tbody tr th:only-of-type {\n",
              "        vertical-align: middle;\n",
              "    }\n",
              "\n",
              "    .dataframe tbody tr th {\n",
              "        vertical-align: top;\n",
              "    }\n",
              "\n",
              "    .dataframe thead th {\n",
              "        text-align: right;\n",
              "    }\n",
              "</style>\n",
              "<table border=\"1\" class=\"dataframe\">\n",
              "  <thead>\n",
              "    <tr style=\"text-align: right;\">\n",
              "      <th></th>\n",
              "      <th>user_id</th>\n",
              "      <th>movie_id</th>\n",
              "      <th>rating</th>\n",
              "      <th>sex</th>\n",
              "      <th>age</th>\n",
              "    </tr>\n",
              "  </thead>\n",
              "  <tbody>\n",
              "    <tr>\n",
              "      <th>0</th>\n",
              "      <td>1141</td>\n",
              "      <td>596</td>\n",
              "      <td>1</td>\n",
              "      <td>1</td>\n",
              "      <td>1</td>\n",
              "    </tr>\n",
              "    <tr>\n",
              "      <th>1</th>\n",
              "      <td>1141</td>\n",
              "      <td>926</td>\n",
              "      <td>1</td>\n",
              "      <td>1</td>\n",
              "      <td>1</td>\n",
              "    </tr>\n",
              "    <tr>\n",
              "      <th>2</th>\n",
              "      <td>1141</td>\n",
              "      <td>3897</td>\n",
              "      <td>1</td>\n",
              "      <td>1</td>\n",
              "      <td>1</td>\n",
              "    </tr>\n",
              "    <tr>\n",
              "      <th>3</th>\n",
              "      <td>1141</td>\n",
              "      <td>933</td>\n",
              "      <td>1</td>\n",
              "      <td>1</td>\n",
              "      <td>1</td>\n",
              "    </tr>\n",
              "    <tr>\n",
              "      <th>4</th>\n",
              "      <td>1141</td>\n",
              "      <td>1073</td>\n",
              "      <td>1</td>\n",
              "      <td>1</td>\n",
              "      <td>1</td>\n",
              "    </tr>\n",
              "  </tbody>\n",
              "</table>\n",
              "</div>"
            ],
            "text/plain": [
              "   user_id  movie_id  rating  sex  age\n",
              "0     1141       596       1    1    1\n",
              "1     1141       926       1    1    1\n",
              "2     1141      3897       1    1    1\n",
              "3     1141       933       1    1    1\n",
              "4     1141      1073       1    1    1"
            ]
          },
          "metadata": {
            "tags": []
          },
          "execution_count": 129
        }
      ]
    },
    {
      "cell_type": "code",
      "metadata": {
        "id": "8dUoSVi3-n4H"
      },
      "source": [
        "group_test.drop('rating',axis=1,inplace=True)"
      ],
      "execution_count": null,
      "outputs": []
    },
    {
      "cell_type": "code",
      "metadata": {
        "colab": {
          "base_uri": "https://localhost:8080/",
          "height": 450
        },
        "id": "jSuiZOCx-sy3",
        "outputId": "4403e63c-b425-4a16-adb5-7a4dfbc4a33f"
      },
      "source": [
        "group_test.set_index('user_id')"
      ],
      "execution_count": null,
      "outputs": [
        {
          "output_type": "execute_result",
          "data": {
            "text/html": [
              "<div>\n",
              "<style scoped>\n",
              "    .dataframe tbody tr th:only-of-type {\n",
              "        vertical-align: middle;\n",
              "    }\n",
              "\n",
              "    .dataframe tbody tr th {\n",
              "        vertical-align: top;\n",
              "    }\n",
              "\n",
              "    .dataframe thead th {\n",
              "        text-align: right;\n",
              "    }\n",
              "</style>\n",
              "<table border=\"1\" class=\"dataframe\">\n",
              "  <thead>\n",
              "    <tr style=\"text-align: right;\">\n",
              "      <th></th>\n",
              "      <th>movie_id</th>\n",
              "      <th>sex</th>\n",
              "      <th>age</th>\n",
              "    </tr>\n",
              "    <tr>\n",
              "      <th>user_id</th>\n",
              "      <th></th>\n",
              "      <th></th>\n",
              "      <th></th>\n",
              "    </tr>\n",
              "  </thead>\n",
              "  <tbody>\n",
              "    <tr>\n",
              "      <th>1141</th>\n",
              "      <td>596</td>\n",
              "      <td>1</td>\n",
              "      <td>1</td>\n",
              "    </tr>\n",
              "    <tr>\n",
              "      <th>1141</th>\n",
              "      <td>926</td>\n",
              "      <td>1</td>\n",
              "      <td>1</td>\n",
              "    </tr>\n",
              "    <tr>\n",
              "      <th>1141</th>\n",
              "      <td>3897</td>\n",
              "      <td>1</td>\n",
              "      <td>1</td>\n",
              "    </tr>\n",
              "    <tr>\n",
              "      <th>1141</th>\n",
              "      <td>933</td>\n",
              "      <td>1</td>\n",
              "      <td>1</td>\n",
              "    </tr>\n",
              "    <tr>\n",
              "      <th>1141</th>\n",
              "      <td>1073</td>\n",
              "      <td>1</td>\n",
              "      <td>1</td>\n",
              "    </tr>\n",
              "    <tr>\n",
              "      <th>...</th>\n",
              "      <td>...</td>\n",
              "      <td>...</td>\n",
              "      <td>...</td>\n",
              "    </tr>\n",
              "    <tr>\n",
              "      <th>1508</th>\n",
              "      <td>2028</td>\n",
              "      <td>1</td>\n",
              "      <td>0</td>\n",
              "    </tr>\n",
              "    <tr>\n",
              "      <th>2925</th>\n",
              "      <td>3753</td>\n",
              "      <td>1</td>\n",
              "      <td>1</td>\n",
              "    </tr>\n",
              "    <tr>\n",
              "      <th>4545</th>\n",
              "      <td>2571</td>\n",
              "      <td>0</td>\n",
              "      <td>1</td>\n",
              "    </tr>\n",
              "    <tr>\n",
              "      <th>5899</th>\n",
              "      <td>2023</td>\n",
              "      <td>0</td>\n",
              "      <td>1</td>\n",
              "    </tr>\n",
              "    <tr>\n",
              "      <th>283</th>\n",
              "      <td>1717</td>\n",
              "      <td>0</td>\n",
              "      <td>1</td>\n",
              "    </tr>\n",
              "  </tbody>\n",
              "</table>\n",
              "<p>41824 rows × 3 columns</p>\n",
              "</div>"
            ],
            "text/plain": [
              "         movie_id  sex  age\n",
              "user_id                    \n",
              "1141          596    1    1\n",
              "1141          926    1    1\n",
              "1141         3897    1    1\n",
              "1141          933    1    1\n",
              "1141         1073    1    1\n",
              "...           ...  ...  ...\n",
              "1508         2028    1    0\n",
              "2925         3753    1    1\n",
              "4545         2571    0    1\n",
              "5899         2023    0    1\n",
              "283          1717    0    1\n",
              "\n",
              "[41824 rows x 3 columns]"
            ]
          },
          "metadata": {
            "tags": []
          },
          "execution_count": 138
        }
      ]
    },
    {
      "cell_type": "code",
      "metadata": {
        "colab": {
          "base_uri": "https://localhost:8080/",
          "height": 243
        },
        "id": "sUkYd2bPBKWO",
        "outputId": "54d32891-1fa7-4deb-f880-67173dda984c"
      },
      "source": [
        "g = sns.FacetGrid(group_test, col = 'sex')\n",
        "g.map(plt.hist, 'age', bins=20)"
      ],
      "execution_count": null,
      "outputs": [
        {
          "output_type": "execute_result",
          "data": {
            "text/plain": [
              "<seaborn.axisgrid.FacetGrid at 0x7f420ae1b650>"
            ]
          },
          "metadata": {
            "tags": []
          },
          "execution_count": 321
        },
        {
          "output_type": "display_data",
          "data": {
            "image/png": "[encoded data removed]",
            "text/plain": [
              "<Figure size 432x216 with 2 Axes>"
            ]
          },
          "metadata": {
            "tags": [],
            "needs_background": "light"
          }
        }
      ]
    },
    {
      "cell_type": "code",
      "metadata": {
        "id": "hkxfHw_NCsa7"
      },
      "source": [
        "#group_test[(group_test['age']==0) & (group_test['sex']==0)]['movie_id'].tolist()"
      ],
      "execution_count": null,
      "outputs": []
    },
    {
      "cell_type": "code",
      "metadata": {
        "id": "eIsSHwAcBw5i"
      },
      "source": [
        "tml = group_test[(group_test['age']==0) & (group_test['sex']==0)]['movie_id'].tolist()\n",
        "tfl = group_test[(group_test['age']==0) & (group_test['sex']==1)]['movie_id'].tolist()\n",
        "tmm = group_test[(group_test['age']==1) & (group_test['sex']==0)]['movie_id'].tolist()\n",
        "tfm = group_test[(group_test['age']==1) & (group_test['sex']==1)]['movie_id'].tolist()\n",
        "tmh = group_test[(group_test['age']==2) & (group_test['sex']==0)]['movie_id'].tolist()\n",
        "tfh =  group_test[(group_test['age']==2) & (group_test['sex']==1)]['movie_id'].tolist()"
      ],
      "execution_count": null,
      "outputs": []
    },
    {
      "cell_type": "code",
      "metadata": {
        "colab": {
          "base_uri": "https://localhost:8080/"
        },
        "id": "ynjDxc2mEHa9",
        "outputId": "3332a492-27b6-42c1-944f-1712e095fe4d"
      },
      "source": [
        "len(tml) + len(tfl) + len(tmm) +len(tfm)+len(tmh)+len(tfh)"
      ],
      "execution_count": null,
      "outputs": [
        {
          "output_type": "execute_result",
          "data": {
            "text/plain": [
              "41824"
            ]
          },
          "metadata": {
            "tags": []
          },
          "execution_count": 324
        }
      ]
    },
    {
      "cell_type": "code",
      "metadata": {
        "colab": {
          "base_uri": "https://localhost:8080/"
        },
        "id": "80fjyzg7_pgm",
        "outputId": "41f66a04-f4df-4117-98bf-4294dba6375a"
      },
      "source": [
        "len(group_test)"
      ],
      "execution_count": null,
      "outputs": [
        {
          "output_type": "execute_result",
          "data": {
            "text/plain": [
              "41824"
            ]
          },
          "metadata": {
            "tags": []
          },
          "execution_count": 315
        }
      ]
    },
    {
      "cell_type": "code",
      "metadata": {
        "id": "q5RrvNFJxdH3"
      },
      "source": [
        "def hitrate50_group():\n",
        "  hit = 0\n",
        "  for a in tml:\n",
        "    if a in m_low:\n",
        "      hit +=1\n",
        "  for b in tfl:\n",
        "    if b in f_low:\n",
        "      hit +=1\n",
        "  for c in tmm:\n",
        "    if c in m_mid:\n",
        "      hit +=1\n",
        "  for d in tfm:\n",
        "    if d in f_mid:\n",
        "      hit +=1\n",
        "  for e in tmh:\n",
        "    if e in m_high:\n",
        "      hit +=1\n",
        "  for f in tfh:\n",
        "    if f in f_high:\n",
        "      hit +=1\n",
        "  return ((hit/len(group_test))) * 100"
      ],
      "execution_count": null,
      "outputs": []
    },
    {
      "cell_type": "code",
      "metadata": {
        "colab": {
          "base_uri": "https://localhost:8080/"
        },
        "id": "_nj-8xwP_BZf",
        "outputId": "14145634-468a-4c53-f621-b26b4712de04"
      },
      "source": [
        "print('%.2f%%' %(hitrate50_group()))"
      ],
      "execution_count": null,
      "outputs": [
        {
          "output_type": "stream",
          "text": [
            "12.84%\n"
          ],
          "name": "stdout"
        }
      ]
    },
    {
      "cell_type": "markdown",
      "metadata": {
        "id": "5c-dPB7lKUHQ"
      },
      "source": [
        "Grouping 결과 12.84% 예측 🙄.............   \n",
        "age를 시각화해서 나뉘어지는 3범주로 0,1,2로 나누었고, sex 0,1 두 범주로 나누어 총 6가지 경우의 수를 가지고 가장 많이 본 영화 top 50 추출, test set에 적용하였음"
      ]
    },
    {
      "cell_type": "markdown",
      "metadata": {
        "id": "v0OcQ0yRK6Go"
      },
      "source": [
        "## Genre"
      ]
    },
    {
      "cell_type": "code",
      "metadata": {
        "colab": {
          "base_uri": "https://localhost:8080/",
          "height": 204
        },
        "id": "A3-wL9iVJDB6",
        "outputId": "38297f2b-b8e0-4746-9afa-9e49c5e9a3cc"
      },
      "source": [
        "movies.head()"
      ],
      "execution_count": null,
      "outputs": [
        {
          "output_type": "execute_result",
          "data": {
            "text/html": [
              "<div>\n",
              "<style scoped>\n",
              "    .dataframe tbody tr th:only-of-type {\n",
              "        vertical-align: middle;\n",
              "    }\n",
              "\n",
              "    .dataframe tbody tr th {\n",
              "        vertical-align: top;\n",
              "    }\n",
              "\n",
              "    .dataframe thead th {\n",
              "        text-align: right;\n",
              "    }\n",
              "</style>\n",
              "<table border=\"1\" class=\"dataframe\">\n",
              "  <thead>\n",
              "    <tr style=\"text-align: right;\">\n",
              "      <th></th>\n",
              "      <th>movie_id</th>\n",
              "      <th>title</th>\n",
              "      <th>genres</th>\n",
              "    </tr>\n",
              "  </thead>\n",
              "  <tbody>\n",
              "    <tr>\n",
              "      <th>0</th>\n",
              "      <td>1</td>\n",
              "      <td>Toy Story (1995)</td>\n",
              "      <td>Animation|Children's|Comedy</td>\n",
              "    </tr>\n",
              "    <tr>\n",
              "      <th>1</th>\n",
              "      <td>2</td>\n",
              "      <td>Jumanji (1995)</td>\n",
              "      <td>Adventure|Children's|Fantasy</td>\n",
              "    </tr>\n",
              "    <tr>\n",
              "      <th>2</th>\n",
              "      <td>3</td>\n",
              "      <td>Grumpier Old Men (1995)</td>\n",
              "      <td>Comedy|Romance</td>\n",
              "    </tr>\n",
              "    <tr>\n",
              "      <th>3</th>\n",
              "      <td>4</td>\n",
              "      <td>Waiting to Exhale (1995)</td>\n",
              "      <td>Comedy|Drama</td>\n",
              "    </tr>\n",
              "    <tr>\n",
              "      <th>4</th>\n",
              "      <td>5</td>\n",
              "      <td>Father of the Bride Part II (1995)</td>\n",
              "      <td>Comedy</td>\n",
              "    </tr>\n",
              "  </tbody>\n",
              "</table>\n",
              "</div>"
            ],
            "text/plain": [
              "   movie_id                               title                        genres\n",
              "0         1                    Toy Story (1995)   Animation|Children's|Comedy\n",
              "1         2                      Jumanji (1995)  Adventure|Children's|Fantasy\n",
              "2         3             Grumpier Old Men (1995)                Comedy|Romance\n",
              "3         4            Waiting to Exhale (1995)                  Comedy|Drama\n",
              "4         5  Father of the Bride Part II (1995)                        Comedy"
            ]
          },
          "metadata": {
            "tags": []
          },
          "execution_count": 490
        }
      ]
    },
    {
      "cell_type": "code",
      "metadata": {
        "id": "KfqYEBwOLGyu"
      },
      "source": [
        "# The movies file contains a binary feature for each genre.\n",
        "genre_cols = [\n",
        "    \"Action\", \"Adventure\", \"Animation\", \"Children's\", \"Comedy\",\n",
        "    \"Crime\", \"Documentary\", \"Drama\", \"Fantasy\", \"Film-Noir\", \"Horror\",\n",
        "    \"Musical\", \"Mystery\", \"Romance\", \"Sci-Fi\", \"Thriller\", \"War\", \"Western\"\n",
        "]"
      ],
      "execution_count": null,
      "outputs": []
    },
    {
      "cell_type": "code",
      "metadata": {
        "id": "-hpcvMlgIFPV"
      },
      "source": [
        "genres_unique = pd.DataFrame(movies.genres.str.split('|').tolist()).stack().unique()\n",
        "genres_unique = pd.DataFrame(genres_unique, columns=['genre']) # Format into DataFrame to store later\n",
        "movies = movies.join(movies.genres.str.get_dummies().astype(bool))"
      ],
      "execution_count": null,
      "outputs": []
    },
    {
      "cell_type": "code",
      "metadata": {
        "id": "xtIsWKkRSjQL"
      },
      "source": [
        "movies.genres = movies.genres.str.split('|')"
      ],
      "execution_count": null,
      "outputs": []
    },
    {
      "cell_type": "code",
      "metadata": {
        "id": "QJ_MVisQhJSe"
      },
      "source": [
        "for a in genre_cols:\n",
        "  movies[a] = movies[a].replace({True: 1, False: 0})"
      ],
      "execution_count": null,
      "outputs": []
    },
    {
      "cell_type": "code",
      "metadata": {
        "colab": {
          "base_uri": "https://localhost:8080/",
          "height": 272
        },
        "id": "CDWoM0MGMSYW",
        "outputId": "1d51a268-b513-477f-d60b-b655490322ab"
      },
      "source": [
        "movies.head()"
      ],
      "execution_count": null,
      "outputs": [
        {
          "output_type": "execute_result",
          "data": {
            "text/html": [
              "<div>\n",
              "<style scoped>\n",
              "    .dataframe tbody tr th:only-of-type {\n",
              "        vertical-align: middle;\n",
              "    }\n",
              "\n",
              "    .dataframe tbody tr th {\n",
              "        vertical-align: top;\n",
              "    }\n",
              "\n",
              "    .dataframe thead th {\n",
              "        text-align: right;\n",
              "    }\n",
              "</style>\n",
              "<table border=\"1\" class=\"dataframe\">\n",
              "  <thead>\n",
              "    <tr style=\"text-align: right;\">\n",
              "      <th></th>\n",
              "      <th>movie_id</th>\n",
              "      <th>title</th>\n",
              "      <th>genres</th>\n",
              "      <th>Action</th>\n",
              "      <th>Adventure</th>\n",
              "      <th>Animation</th>\n",
              "      <th>Children's</th>\n",
              "      <th>Comedy</th>\n",
              "      <th>Crime</th>\n",
              "      <th>Documentary</th>\n",
              "      <th>Drama</th>\n",
              "      <th>Fantasy</th>\n",
              "      <th>Film-Noir</th>\n",
              "      <th>Horror</th>\n",
              "      <th>Musical</th>\n",
              "      <th>Mystery</th>\n",
              "      <th>Romance</th>\n",
              "      <th>Sci-Fi</th>\n",
              "      <th>Thriller</th>\n",
              "      <th>War</th>\n",
              "      <th>Western</th>\n",
              "    </tr>\n",
              "  </thead>\n",
              "  <tbody>\n",
              "    <tr>\n",
              "      <th>0</th>\n",
              "      <td>1</td>\n",
              "      <td>Toy Story (1995)</td>\n",
              "      <td>[Animation, Children's, Comedy]</td>\n",
              "      <td>0</td>\n",
              "      <td>0</td>\n",
              "      <td>1</td>\n",
              "      <td>1</td>\n",
              "      <td>1</td>\n",
              "      <td>0</td>\n",
              "      <td>0</td>\n",
              "      <td>0</td>\n",
              "      <td>0</td>\n",
              "      <td>0</td>\n",
              "      <td>0</td>\n",
              "      <td>0</td>\n",
              "      <td>0</td>\n",
              "      <td>0</td>\n",
              "      <td>0</td>\n",
              "      <td>0</td>\n",
              "      <td>0</td>\n",
              "      <td>0</td>\n",
              "    </tr>\n",
              "    <tr>\n",
              "      <th>1</th>\n",
              "      <td>2</td>\n",
              "      <td>Jumanji (1995)</td>\n",
              "      <td>[Adventure, Children's, Fantasy]</td>\n",
              "      <td>0</td>\n",
              "      <td>1</td>\n",
              "      <td>0</td>\n",
              "      <td>1</td>\n",
              "      <td>0</td>\n",
              "      <td>0</td>\n",
              "      <td>0</td>\n",
              "      <td>0</td>\n",
              "      <td>1</td>\n",
              "      <td>0</td>\n",
              "      <td>0</td>\n",
              "      <td>0</td>\n",
              "      <td>0</td>\n",
              "      <td>0</td>\n",
              "      <td>0</td>\n",
              "      <td>0</td>\n",
              "      <td>0</td>\n",
              "      <td>0</td>\n",
              "    </tr>\n",
              "    <tr>\n",
              "      <th>2</th>\n",
              "      <td>3</td>\n",
              "      <td>Grumpier Old Men (1995)</td>\n",
              "      <td>[Comedy, Romance]</td>\n",
              "      <td>0</td>\n",
              "      <td>0</td>\n",
              "      <td>0</td>\n",
              "      <td>0</td>\n",
              "      <td>1</td>\n",
              "      <td>0</td>\n",
              "      <td>0</td>\n",
              "      <td>0</td>\n",
              "      <td>0</td>\n",
              "      <td>0</td>\n",
              "      <td>0</td>\n",
              "      <td>0</td>\n",
              "      <td>0</td>\n",
              "      <td>1</td>\n",
              "      <td>0</td>\n",
              "      <td>0</td>\n",
              "      <td>0</td>\n",
              "      <td>0</td>\n",
              "    </tr>\n",
              "    <tr>\n",
              "      <th>3</th>\n",
              "      <td>4</td>\n",
              "      <td>Waiting to Exhale (1995)</td>\n",
              "      <td>[Comedy, Drama]</td>\n",
              "      <td>0</td>\n",
              "      <td>0</td>\n",
              "      <td>0</td>\n",
              "      <td>0</td>\n",
              "      <td>1</td>\n",
              "      <td>0</td>\n",
              "      <td>0</td>\n",
              "      <td>1</td>\n",
              "      <td>0</td>\n",
              "      <td>0</td>\n",
              "      <td>0</td>\n",
              "      <td>0</td>\n",
              "      <td>0</td>\n",
              "      <td>0</td>\n",
              "      <td>0</td>\n",
              "      <td>0</td>\n",
              "      <td>0</td>\n",
              "      <td>0</td>\n",
              "    </tr>\n",
              "    <tr>\n",
              "      <th>4</th>\n",
              "      <td>5</td>\n",
              "      <td>Father of the Bride Part II (1995)</td>\n",
              "      <td>[Comedy]</td>\n",
              "      <td>0</td>\n",
              "      <td>0</td>\n",
              "      <td>0</td>\n",
              "      <td>0</td>\n",
              "      <td>1</td>\n",
              "      <td>0</td>\n",
              "      <td>0</td>\n",
              "      <td>0</td>\n",
              "      <td>0</td>\n",
              "      <td>0</td>\n",
              "      <td>0</td>\n",
              "      <td>0</td>\n",
              "      <td>0</td>\n",
              "      <td>0</td>\n",
              "      <td>0</td>\n",
              "      <td>0</td>\n",
              "      <td>0</td>\n",
              "      <td>0</td>\n",
              "    </tr>\n",
              "  </tbody>\n",
              "</table>\n",
              "</div>"
            ],
            "text/plain": [
              "   movie_id                               title  ... War  Western\n",
              "0         1                    Toy Story (1995)  ...   0        0\n",
              "1         2                      Jumanji (1995)  ...   0        0\n",
              "2         3             Grumpier Old Men (1995)  ...   0        0\n",
              "3         4            Waiting to Exhale (1995)  ...   0        0\n",
              "4         5  Father of the Bride Part II (1995)  ...   0        0\n",
              "\n",
              "[5 rows x 21 columns]"
            ]
          },
          "metadata": {
            "tags": []
          },
          "execution_count": 495
        }
      ]
    },
    {
      "cell_type": "code",
      "metadata": {
        "id": "fJ4zUITIUqSZ"
      },
      "source": [
        "train.set_index('user_id')\n",
        "train.drop('rating', axis=1, inplace=True)\n",
        "train = pd.merge(train, movies, on='movie_id')"
      ],
      "execution_count": null,
      "outputs": []
    },
    {
      "cell_type": "code",
      "metadata": {
        "colab": {
          "base_uri": "https://localhost:8080/"
        },
        "id": "2JOScC13nJJ8",
        "outputId": "bdb89dba-aa96-4f8f-efe6-5d7f1833fed8"
      },
      "source": [
        "train[train['user_id']==3697].groupby('Adventure').size()"
      ],
      "execution_count": null,
      "outputs": [
        {
          "output_type": "execute_result",
          "data": {
            "text/plain": [
              "Adventure\n",
              "0    73\n",
              "1    43\n",
              "dtype: int64"
            ]
          },
          "metadata": {
            "tags": []
          },
          "execution_count": 25
        }
      ]
    },
    {
      "cell_type": "code",
      "metadata": {
        "id": "ym6VdKP6TEh_"
      },
      "source": [
        "def rec_movies(uid):\n",
        "  favg = dict()\n",
        "  for a in genre_cols:\n",
        "    try: favg[a] = train[train['user_id']==uid].groupby(a).size()[1]\n",
        "    except KeyError: continue\n",
        "  favgl = sorted(favg, key=favg.get, reverse=True)[:5]\n",
        "  ranking = []\n",
        "  for a in favgl:\n",
        "    ranking.append(train[train[a]==1].groupby('movie_id').size().sort_values(ascending=False)[:10].tolist())\n",
        "  return sum(ranking, [])"
      ],
      "execution_count": null,
      "outputs": []
    },
    {
      "cell_type": "code",
      "metadata": {
        "id": "zOIkNTo_Xo7T"
      },
      "source": [
        "test = test[['user_id', 'movie_id']]\n",
        "test = test.set_index('user_id')"
      ],
      "execution_count": null,
      "outputs": []
    },
    {
      "cell_type": "code",
      "metadata": {
        "id": "7Ab0pAfWtTbf"
      },
      "source": [
        "def find_watched_list(uid):\n",
        "  for a in test['movie_id'].groupby('user_id'):\n",
        "    if a[0] == uid:\n",
        "      return a[1].tolist()"
      ],
      "execution_count": null,
      "outputs": []
    },
    {
      "cell_type": "code",
      "metadata": {
        "id": "v2l5IWEnrpSR"
      },
      "source": [
        "def hitrate50_genre(df):\n",
        "  hit = 0\n",
        "  for tmp in df.index:\n",
        "    rec_list = rec_movies(tmp)\n",
        "    watch = find_watched_list(tmp)\n",
        "    for e in watch:\n",
        "      if e in rec_list:\n",
        "        hit+=1\n",
        "  print(hit)\n",
        "  return (hit/len(test)) * 100"
      ],
      "execution_count": null,
      "outputs": []
    },
    {
      "cell_type": "code",
      "metadata": {
        "colab": {
          "base_uri": "https://localhost:8080/"
        },
        "id": "yxgDngC2GG7p",
        "outputId": "ad5f6f30-0476-429a-ba3d-4a5fe0731596"
      },
      "source": [
        "print('%.2f%%' %(hitrate50_genre(test)))"
      ],
      "execution_count": null,
      "outputs": [
        {
          "output_type": "stream",
          "text": [
            "7438\n",
            "17.78%\n"
          ],
          "name": "stdout"
        }
      ]
    },
    {
      "cell_type": "markdown",
      "metadata": {
        "id": "rxdMka5Jxlka"
      },
      "source": [
        "장르의 경우 지난 주의 것보다 조금 더 보완해서 진행, 장르를 unique하게 모두 자르고 유저가 좋아하는 장르 5개를 고른뒤 각 장르별 많이 본 영화를 10개씩 추천한 뒤(총 50개) 유저가 실제로 본 영화와 얼마나 매치하는지 hit을 계산했다 😊 "
      ]
    },
    {
      "cell_type": "markdown",
      "metadata": {
        "id": "oyTMfW5EoaTO"
      },
      "source": [
        "## Popular"
      ]
    },
    {
      "cell_type": "code",
      "metadata": {
        "id": "GFD8QEgbpd1c"
      },
      "source": [
        "top_50 = train.groupby('movie_id').size().sort_values(ascending=False).index[:50].tolist()"
      ],
      "execution_count": null,
      "outputs": []
    },
    {
      "cell_type": "code",
      "metadata": {
        "id": "xUArJTHo8wHy"
      },
      "source": [
        "movie_list = test['movie_id'].tolist()"
      ],
      "execution_count": null,
      "outputs": []
    },
    {
      "cell_type": "code",
      "metadata": {
        "id": "sPkQCFya8_V0"
      },
      "source": [
        "def hitrate50_popular():\n",
        "  hit = 0\n",
        "  for a in movie_list:\n",
        "    if a in top_50:\n",
        "      hit+=1\n",
        "  return (hit/len(movie_list)) * 100"
      ],
      "execution_count": null,
      "outputs": []
    },
    {
      "cell_type": "code",
      "metadata": {
        "colab": {
          "base_uri": "https://localhost:8080/"
        },
        "id": "txwmkwNl9zbb",
        "outputId": "bedb155d-2ac9-4618-d3b7-287875b348e1"
      },
      "source": [
        "print('%.2f%%' %(hitrate50_popular()))"
      ],
      "execution_count": null,
      "outputs": [
        {
          "output_type": "stream",
          "text": [
            "12.50%\n"
          ],
          "name": "stdout"
        }
      ]
    },
    {
      "cell_type": "markdown",
      "metadata": {
        "id": "YFY_FL5ayQwq"
      },
      "source": [
        "## Conclusion   \n",
        "group : 12.84%   \n",
        "genre : 17.78%   \n",
        "popular : 12.50%   \n",
        "\n",
        "genre > group > popular 순으로 정확도가 높은 것을 알 수 있었다. 하지만 장르 추천 시스템은 돌리는데 시간이 엄청 오래걸렸다...🤔"
      ]
    },
    {
      "cell_type": "markdown",
      "metadata": {
        "id": "IlnCpgJSzEkZ"
      },
      "source": [
        "# Matrix Factorization   \n",
        "[Matrix Factorization 요약정리 🔎](https://silly-force-8ba.notion.site/Matrix-Factorization-bb6dd272c39e4428ac2805cd8d3b339b)"
      ]
    },
    {
      "cell_type": "markdown",
      "metadata": {
        "id": "Ra5Lk3FtQSsG"
      },
      "source": [
        "## Surprise Package"
      ]
    },
    {
      "cell_type": "code",
      "metadata": {
        "colab": {
          "base_uri": "https://localhost:8080/"
        },
        "id": "EioC8YGxjA0N",
        "outputId": "81db5684-d62a-4bc1-91c0-90605e9e0c17"
      },
      "source": [
        "pip install scikit-surprise"
      ],
      "execution_count": null,
      "outputs": [
        {
          "output_type": "stream",
          "text": [
            "Requirement already satisfied: scikit-surprise in /usr/local/lib/python3.7/dist-packages (1.1.1)\n",
            "Requirement already satisfied: numpy>=1.11.2 in /usr/local/lib/python3.7/dist-packages (from scikit-surprise) (1.19.5)\n",
            "Requirement already satisfied: six>=1.10.0 in /usr/local/lib/python3.7/dist-packages (from scikit-surprise) (1.15.0)\n",
            "Requirement already satisfied: scipy>=1.0.0 in /usr/local/lib/python3.7/dist-packages (from scikit-surprise) (1.4.1)\n",
            "Requirement already satisfied: joblib>=0.11 in /usr/local/lib/python3.7/dist-packages (from scikit-surprise) (1.0.1)\n"
          ],
          "name": "stdout"
        }
      ]
    },
    {
      "cell_type": "code",
      "metadata": {
        "id": "dV3WwtjV0DlR"
      },
      "source": [
        "from surprise import SVD\n",
        "from surprise import accuracy\n",
        "from surprise import Reader\n",
        "from surprise import Dataset\n",
        "from surprise import BaselineOnly\n",
        "import surprise"
      ],
      "execution_count": null,
      "outputs": []
    },
    {
      "cell_type": "markdown",
      "metadata": {
        "id": "wS_xvidR3NEJ"
      },
      "source": [
        "### SVD"
      ]
    },
    {
      "cell_type": "markdown",
      "metadata": {
        "id": "yA2j6GFk_0ka"
      },
      "source": [
        "Surprise 패키지의 경우 train, test 데이터를 임의로 지정했을 때 돌리기가 조금 까다로운 편이었다. surprise github issues에서 찾은 바로는 test데이터를 iterate 하면서 각각 사용자, 아이템을 predict 하게 하거나 (근데 시간이 오래 걸릴듯) 따로 test를 더미로 만들어서 전처리하고 예측하도록 했음   \n",
        "[Using Surprise to make predictoins on Dataframe or Dataset](https://github.com/NicolasHug/Surprise/issues/215)"
      ]
    },
    {
      "cell_type": "code",
      "metadata": {
        "id": "NUzbKmvgjN2V"
      },
      "source": [
        "algo = SVD()"
      ],
      "execution_count": null,
      "outputs": []
    },
    {
      "cell_type": "code",
      "metadata": {
        "id": "ULHj_Mt-jVw5"
      },
      "source": [
        "#reader = Reader(rating_scale=(0,1))\n",
        "#train = Dataset.load_from_df(train[['user_id', 'movie_id', 'rating']], reader)"
      ],
      "execution_count": null,
      "outputs": []
    },
    {
      "cell_type": "code",
      "metadata": {
        "id": "KGgYSB_N3SMM"
      },
      "source": [
        "#train = train.build_full_trainset()"
      ],
      "execution_count": null,
      "outputs": []
    },
    {
      "cell_type": "code",
      "metadata": {
        "id": "G9iwgkxnjZQW"
      },
      "source": [
        "#algo.fit(train)"
      ],
      "execution_count": null,
      "outputs": []
    },
    {
      "cell_type": "code",
      "metadata": {
        "id": "oHjlhKtJ-luc"
      },
      "source": [
        "#test.loc[:,'rating'] = 0"
      ],
      "execution_count": null,
      "outputs": []
    },
    {
      "cell_type": "code",
      "metadata": {
        "id": "pXbtd8Y7oUQo"
      },
      "source": [
        "#test_processed = Dataset.load_from_df(test[['user_id', 'movie_id', 'rating']], reader)"
      ],
      "execution_count": null,
      "outputs": []
    },
    {
      "cell_type": "code",
      "metadata": {
        "id": "onBZwktJ2wvQ"
      },
      "source": [
        "#NA, test = surprise.model_selection.split.train_test_split(test_processed, test_size = 1.0, shuffle=False)"
      ],
      "execution_count": null,
      "outputs": []
    },
    {
      "cell_type": "code",
      "metadata": {
        "id": "_BwwFv2ind1K"
      },
      "source": [
        "#predictions = algo.test(test)"
      ],
      "execution_count": null,
      "outputs": []
    },
    {
      "cell_type": "code",
      "metadata": {
        "id": "wIX3nCW-ttM-"
      },
      "source": [
        "#accuracy.rmse(predictions)"
      ],
      "execution_count": null,
      "outputs": []
    },
    {
      "cell_type": "markdown",
      "metadata": {
        "id": "sfeqEGSy1Jv-"
      },
      "source": [
        "### ALS, SGD 기반   "
      ]
    },
    {
      "cell_type": "code",
      "metadata": {
        "id": "e1Xcn8W6u7Nn"
      },
      "source": [
        "bsl_options = {'method': 'als',\n",
        "               'n_epochs': 5,\n",
        "               'reg_u': 12,\n",
        "               'reg_i': 5\n",
        "               }\n",
        "algo = BaselineOnly(bsl_options=bsl_options)"
      ],
      "execution_count": null,
      "outputs": []
    },
    {
      "cell_type": "code",
      "metadata": {
        "colab": {
          "base_uri": "https://localhost:8080/"
        },
        "id": "67jf-XEVvYGG",
        "outputId": "f02ff2b4-d84b-4bb9-cd8d-cdc11c5d5d95"
      },
      "source": [
        "algo.fit(train)"
      ],
      "execution_count": null,
      "outputs": [
        {
          "output_type": "stream",
          "text": [
            "Estimating biases using als...\n"
          ],
          "name": "stdout"
        },
        {
          "output_type": "execute_result",
          "data": {
            "text/plain": [
              "<surprise.prediction_algorithms.baseline_only.BaselineOnly at 0x7f43153c4b90>"
            ]
          },
          "metadata": {
            "tags": []
          },
          "execution_count": 94
        }
      ]
    },
    {
      "cell_type": "code",
      "metadata": {
        "id": "Y0ffgKFR0dvG"
      },
      "source": [
        "predictions = algo.test(test)"
      ],
      "execution_count": null,
      "outputs": []
    },
    {
      "cell_type": "code",
      "metadata": {
        "id": "T61gLDXZ0f_M",
        "colab": {
          "base_uri": "https://localhost:8080/"
        },
        "outputId": "d47e5624-427e-419c-9bff-62741572e66e"
      },
      "source": [
        "accuracy.rmse(predictions)"
      ],
      "execution_count": null,
      "outputs": [
        {
          "output_type": "stream",
          "text": [
            "RMSE: 1.0000\n"
          ],
          "name": "stdout"
        },
        {
          "output_type": "execute_result",
          "data": {
            "text/plain": [
              "1.0"
            ]
          },
          "metadata": {
            "tags": []
          },
          "execution_count": 96
        }
      ]
    },
    {
      "cell_type": "code",
      "metadata": {
        "id": "HYGdexxI1FgS",
        "colab": {
          "base_uri": "https://localhost:8080/"
        },
        "outputId": "5e1a03f2-8632-46b9-9419-277533d12fba"
      },
      "source": [
        "print('Using SGD')\n",
        "bsl_options = {'method': 'sgd',\n",
        "               'learning_rate': .00005,\n",
        "               }\n",
        "algo = BaselineOnly(bsl_options=bsl_options)"
      ],
      "execution_count": null,
      "outputs": [
        {
          "output_type": "stream",
          "text": [
            "Using SGD\n"
          ],
          "name": "stdout"
        }
      ]
    },
    {
      "cell_type": "code",
      "metadata": {
        "colab": {
          "base_uri": "https://localhost:8080/"
        },
        "id": "Whdh11LbSx_S",
        "outputId": "cbec7bf3-39ff-4901-c895-fe2aeb1c760e"
      },
      "source": [
        "algo.fit(train)"
      ],
      "execution_count": null,
      "outputs": [
        {
          "output_type": "stream",
          "text": [
            "Estimating biases using sgd...\n"
          ],
          "name": "stdout"
        },
        {
          "output_type": "execute_result",
          "data": {
            "text/plain": [
              "<surprise.prediction_algorithms.baseline_only.BaselineOnly at 0x7f43153e2e90>"
            ]
          },
          "metadata": {
            "tags": []
          },
          "execution_count": 98
        }
      ]
    },
    {
      "cell_type": "code",
      "metadata": {
        "id": "R2o8aJEoSzqD"
      },
      "source": [
        "predictions = algo.test(test)"
      ],
      "execution_count": null,
      "outputs": []
    },
    {
      "cell_type": "code",
      "metadata": {
        "colab": {
          "base_uri": "https://localhost:8080/"
        },
        "id": "16WwgHpaS1o2",
        "outputId": "231047f9-a2b3-4601-a1bd-87fb3df46351"
      },
      "source": [
        "accuracy.rmse(predictions)"
      ],
      "execution_count": null,
      "outputs": [
        {
          "output_type": "stream",
          "text": [
            "RMSE: 1.0000\n"
          ],
          "name": "stdout"
        },
        {
          "output_type": "execute_result",
          "data": {
            "text/plain": [
              "1.0"
            ]
          },
          "metadata": {
            "tags": []
          },
          "execution_count": 100
        }
      ]
    },
    {
      "cell_type": "markdown",
      "metadata": {
        "id": "_iXr3mfUTDIj"
      },
      "source": [
        "뭔가 잘못되고 있다고 생각했는데...   \n",
        "Can Surprise support content-based data or implicit ratings?   \n",
        "\n",
        "No: this is out of scope for surprise. Surprise was designed for explicit ratings.   😱\n",
        "\n",
        "\n"
      ]
    },
    {
      "cell_type": "markdown",
      "metadata": {
        "id": "ZV--Eoydmi2Z"
      },
      "source": [
        "## Scipy   \n",
        "scikit-learn에서도 SVD를 제공하나, U, sigma, V.T를 return 하지 않는다.   \n",
        "[참조 : 파이썬 Matrix Factorization 영화 추천 시스템(movie recommender system) 구현해보기 - 2](https://lsjsj92.tistory.com/570)"
      ]
    },
    {
      "cell_type": "code",
      "metadata": {
        "colab": {
          "base_uri": "https://localhost:8080/",
          "height": 204
        },
        "id": "fuXLvLL2oi4W",
        "outputId": "afdd8ff8-5d7c-4dd6-ee4e-824cc3741059"
      },
      "source": [
        "rating_movies = pd.merge(train, movies, on='movie_id') # title 칼럼 얻을 수 있게 합치기\n",
        "rating_movies.head()"
      ],
      "execution_count": null,
      "outputs": [
        {
          "output_type": "execute_result",
          "data": {
            "text/html": [
              "<div>\n",
              "<style scoped>\n",
              "    .dataframe tbody tr th:only-of-type {\n",
              "        vertical-align: middle;\n",
              "    }\n",
              "\n",
              "    .dataframe tbody tr th {\n",
              "        vertical-align: top;\n",
              "    }\n",
              "\n",
              "    .dataframe thead th {\n",
              "        text-align: right;\n",
              "    }\n",
              "</style>\n",
              "<table border=\"1\" class=\"dataframe\">\n",
              "  <thead>\n",
              "    <tr style=\"text-align: right;\">\n",
              "      <th></th>\n",
              "      <th>user_id</th>\n",
              "      <th>movie_id</th>\n",
              "      <th>rating</th>\n",
              "      <th>title</th>\n",
              "      <th>genres</th>\n",
              "    </tr>\n",
              "  </thead>\n",
              "  <tbody>\n",
              "    <tr>\n",
              "      <th>0</th>\n",
              "      <td>3697</td>\n",
              "      <td>16</td>\n",
              "      <td>3</td>\n",
              "      <td>Casino (1995)</td>\n",
              "      <td>Drama|Thriller</td>\n",
              "    </tr>\n",
              "    <tr>\n",
              "      <th>1</th>\n",
              "      <td>4607</td>\n",
              "      <td>16</td>\n",
              "      <td>4</td>\n",
              "      <td>Casino (1995)</td>\n",
              "      <td>Drama|Thriller</td>\n",
              "    </tr>\n",
              "    <tr>\n",
              "      <th>2</th>\n",
              "      <td>1019</td>\n",
              "      <td>16</td>\n",
              "      <td>4</td>\n",
              "      <td>Casino (1995)</td>\n",
              "      <td>Drama|Thriller</td>\n",
              "    </tr>\n",
              "    <tr>\n",
              "      <th>3</th>\n",
              "      <td>593</td>\n",
              "      <td>16</td>\n",
              "      <td>3</td>\n",
              "      <td>Casino (1995)</td>\n",
              "      <td>Drama|Thriller</td>\n",
              "    </tr>\n",
              "    <tr>\n",
              "      <th>4</th>\n",
              "      <td>668</td>\n",
              "      <td>16</td>\n",
              "      <td>3</td>\n",
              "      <td>Casino (1995)</td>\n",
              "      <td>Drama|Thriller</td>\n",
              "    </tr>\n",
              "  </tbody>\n",
              "</table>\n",
              "</div>"
            ],
            "text/plain": [
              "   user_id  movie_id  rating          title          genres\n",
              "0     3697        16       3  Casino (1995)  Drama|Thriller\n",
              "1     4607        16       4  Casino (1995)  Drama|Thriller\n",
              "2     1019        16       4  Casino (1995)  Drama|Thriller\n",
              "3      593        16       3  Casino (1995)  Drama|Thriller\n",
              "4      668        16       3  Casino (1995)  Drama|Thriller"
            ]
          },
          "metadata": {
            "tags": []
          },
          "execution_count": 8
        }
      ]
    },
    {
      "cell_type": "code",
      "metadata": {
        "colab": {
          "base_uri": "https://localhost:8080/",
          "height": 284
        },
        "id": "N4y_7s6zousL",
        "outputId": "ab347acc-a7d8-4364-fa72-54ace5bdbf2a"
      },
      "source": [
        "rating_matrix = train.pivot_table('rating', index = 'user_id', columns = 'movie_id').fillna(0)\n",
        "rating_matrix.head()"
      ],
      "execution_count": null,
      "outputs": [
        {
          "output_type": "execute_result",
          "data": {
            "text/html": [
              "<div>\n",
              "<style scoped>\n",
              "    .dataframe tbody tr th:only-of-type {\n",
              "        vertical-align: middle;\n",
              "    }\n",
              "\n",
              "    .dataframe tbody tr th {\n",
              "        vertical-align: top;\n",
              "    }\n",
              "\n",
              "    .dataframe thead th {\n",
              "        text-align: right;\n",
              "    }\n",
              "</style>\n",
              "<table border=\"1\" class=\"dataframe\">\n",
              "  <thead>\n",
              "    <tr style=\"text-align: right;\">\n",
              "      <th>movie_id</th>\n",
              "      <th>1</th>\n",
              "      <th>2</th>\n",
              "      <th>3</th>\n",
              "      <th>4</th>\n",
              "      <th>5</th>\n",
              "      <th>6</th>\n",
              "      <th>7</th>\n",
              "      <th>8</th>\n",
              "      <th>9</th>\n",
              "      <th>10</th>\n",
              "      <th>11</th>\n",
              "      <th>12</th>\n",
              "      <th>13</th>\n",
              "      <th>14</th>\n",
              "      <th>15</th>\n",
              "      <th>16</th>\n",
              "      <th>17</th>\n",
              "      <th>18</th>\n",
              "      <th>19</th>\n",
              "      <th>20</th>\n",
              "      <th>21</th>\n",
              "      <th>22</th>\n",
              "      <th>23</th>\n",
              "      <th>24</th>\n",
              "      <th>25</th>\n",
              "      <th>26</th>\n",
              "      <th>27</th>\n",
              "      <th>28</th>\n",
              "      <th>29</th>\n",
              "      <th>30</th>\n",
              "      <th>31</th>\n",
              "      <th>32</th>\n",
              "      <th>33</th>\n",
              "      <th>34</th>\n",
              "      <th>35</th>\n",
              "      <th>36</th>\n",
              "      <th>37</th>\n",
              "      <th>38</th>\n",
              "      <th>39</th>\n",
              "      <th>40</th>\n",
              "      <th>...</th>\n",
              "      <th>3913</th>\n",
              "      <th>3914</th>\n",
              "      <th>3915</th>\n",
              "      <th>3916</th>\n",
              "      <th>3917</th>\n",
              "      <th>3918</th>\n",
              "      <th>3919</th>\n",
              "      <th>3920</th>\n",
              "      <th>3921</th>\n",
              "      <th>3922</th>\n",
              "      <th>3923</th>\n",
              "      <th>3924</th>\n",
              "      <th>3925</th>\n",
              "      <th>3926</th>\n",
              "      <th>3927</th>\n",
              "      <th>3928</th>\n",
              "      <th>3929</th>\n",
              "      <th>3930</th>\n",
              "      <th>3931</th>\n",
              "      <th>3932</th>\n",
              "      <th>3933</th>\n",
              "      <th>3934</th>\n",
              "      <th>3935</th>\n",
              "      <th>3936</th>\n",
              "      <th>3937</th>\n",
              "      <th>3938</th>\n",
              "      <th>3939</th>\n",
              "      <th>3940</th>\n",
              "      <th>3941</th>\n",
              "      <th>3942</th>\n",
              "      <th>3943</th>\n",
              "      <th>3944</th>\n",
              "      <th>3945</th>\n",
              "      <th>3946</th>\n",
              "      <th>3947</th>\n",
              "      <th>3948</th>\n",
              "      <th>3949</th>\n",
              "      <th>3950</th>\n",
              "      <th>3951</th>\n",
              "      <th>3952</th>\n",
              "    </tr>\n",
              "    <tr>\n",
              "      <th>user_id</th>\n",
              "      <th></th>\n",
              "      <th></th>\n",
              "      <th></th>\n",
              "      <th></th>\n",
              "      <th></th>\n",
              "      <th></th>\n",
              "      <th></th>\n",
              "      <th></th>\n",
              "      <th></th>\n",
              "      <th></th>\n",
              "      <th></th>\n",
              "      <th></th>\n",
              "      <th></th>\n",
              "      <th></th>\n",
              "      <th></th>\n",
              "      <th></th>\n",
              "      <th></th>\n",
              "      <th></th>\n",
              "      <th></th>\n",
              "      <th></th>\n",
              "      <th></th>\n",
              "      <th></th>\n",
              "      <th></th>\n",
              "      <th></th>\n",
              "      <th></th>\n",
              "      <th></th>\n",
              "      <th></th>\n",
              "      <th></th>\n",
              "      <th></th>\n",
              "      <th></th>\n",
              "      <th></th>\n",
              "      <th></th>\n",
              "      <th></th>\n",
              "      <th></th>\n",
              "      <th></th>\n",
              "      <th></th>\n",
              "      <th></th>\n",
              "      <th></th>\n",
              "      <th></th>\n",
              "      <th></th>\n",
              "      <th></th>\n",
              "      <th></th>\n",
              "      <th></th>\n",
              "      <th></th>\n",
              "      <th></th>\n",
              "      <th></th>\n",
              "      <th></th>\n",
              "      <th></th>\n",
              "      <th></th>\n",
              "      <th></th>\n",
              "      <th></th>\n",
              "      <th></th>\n",
              "      <th></th>\n",
              "      <th></th>\n",
              "      <th></th>\n",
              "      <th></th>\n",
              "      <th></th>\n",
              "      <th></th>\n",
              "      <th></th>\n",
              "      <th></th>\n",
              "      <th></th>\n",
              "      <th></th>\n",
              "      <th></th>\n",
              "      <th></th>\n",
              "      <th></th>\n",
              "      <th></th>\n",
              "      <th></th>\n",
              "      <th></th>\n",
              "      <th></th>\n",
              "      <th></th>\n",
              "      <th></th>\n",
              "      <th></th>\n",
              "      <th></th>\n",
              "      <th></th>\n",
              "      <th></th>\n",
              "      <th></th>\n",
              "      <th></th>\n",
              "      <th></th>\n",
              "      <th></th>\n",
              "      <th></th>\n",
              "      <th></th>\n",
              "    </tr>\n",
              "  </thead>\n",
              "  <tbody>\n",
              "    <tr>\n",
              "      <th>1</th>\n",
              "      <td>5.0</td>\n",
              "      <td>0.0</td>\n",
              "      <td>0.0</td>\n",
              "      <td>0.0</td>\n",
              "      <td>0.0</td>\n",
              "      <td>0.0</td>\n",
              "      <td>0.0</td>\n",
              "      <td>0.0</td>\n",
              "      <td>0.0</td>\n",
              "      <td>0.0</td>\n",
              "      <td>0.0</td>\n",
              "      <td>0.0</td>\n",
              "      <td>0.0</td>\n",
              "      <td>0.0</td>\n",
              "      <td>0.0</td>\n",
              "      <td>0.0</td>\n",
              "      <td>0.0</td>\n",
              "      <td>0.0</td>\n",
              "      <td>0.0</td>\n",
              "      <td>0.0</td>\n",
              "      <td>0.0</td>\n",
              "      <td>0.0</td>\n",
              "      <td>0.0</td>\n",
              "      <td>0.0</td>\n",
              "      <td>0.0</td>\n",
              "      <td>0.0</td>\n",
              "      <td>0.0</td>\n",
              "      <td>0.0</td>\n",
              "      <td>0.0</td>\n",
              "      <td>0.0</td>\n",
              "      <td>0.0</td>\n",
              "      <td>0.0</td>\n",
              "      <td>0.0</td>\n",
              "      <td>0.0</td>\n",
              "      <td>0.0</td>\n",
              "      <td>0.0</td>\n",
              "      <td>0.0</td>\n",
              "      <td>0.0</td>\n",
              "      <td>0.0</td>\n",
              "      <td>0.0</td>\n",
              "      <td>...</td>\n",
              "      <td>0.0</td>\n",
              "      <td>0.0</td>\n",
              "      <td>0.0</td>\n",
              "      <td>0.0</td>\n",
              "      <td>0.0</td>\n",
              "      <td>0.0</td>\n",
              "      <td>0.0</td>\n",
              "      <td>0.0</td>\n",
              "      <td>0.0</td>\n",
              "      <td>0.0</td>\n",
              "      <td>0.0</td>\n",
              "      <td>0.0</td>\n",
              "      <td>0.0</td>\n",
              "      <td>0.0</td>\n",
              "      <td>0.0</td>\n",
              "      <td>0.0</td>\n",
              "      <td>0.0</td>\n",
              "      <td>0.0</td>\n",
              "      <td>0.0</td>\n",
              "      <td>0.0</td>\n",
              "      <td>0.0</td>\n",
              "      <td>0.0</td>\n",
              "      <td>0.0</td>\n",
              "      <td>0.0</td>\n",
              "      <td>0.0</td>\n",
              "      <td>0.0</td>\n",
              "      <td>0.0</td>\n",
              "      <td>0.0</td>\n",
              "      <td>0.0</td>\n",
              "      <td>0.0</td>\n",
              "      <td>0.0</td>\n",
              "      <td>0.0</td>\n",
              "      <td>0.0</td>\n",
              "      <td>0.0</td>\n",
              "      <td>0.0</td>\n",
              "      <td>0.0</td>\n",
              "      <td>0.0</td>\n",
              "      <td>0.0</td>\n",
              "      <td>0.0</td>\n",
              "      <td>0.0</td>\n",
              "    </tr>\n",
              "    <tr>\n",
              "      <th>2</th>\n",
              "      <td>0.0</td>\n",
              "      <td>0.0</td>\n",
              "      <td>0.0</td>\n",
              "      <td>0.0</td>\n",
              "      <td>0.0</td>\n",
              "      <td>0.0</td>\n",
              "      <td>0.0</td>\n",
              "      <td>0.0</td>\n",
              "      <td>0.0</td>\n",
              "      <td>0.0</td>\n",
              "      <td>0.0</td>\n",
              "      <td>0.0</td>\n",
              "      <td>0.0</td>\n",
              "      <td>0.0</td>\n",
              "      <td>0.0</td>\n",
              "      <td>0.0</td>\n",
              "      <td>0.0</td>\n",
              "      <td>0.0</td>\n",
              "      <td>0.0</td>\n",
              "      <td>0.0</td>\n",
              "      <td>0.0</td>\n",
              "      <td>0.0</td>\n",
              "      <td>0.0</td>\n",
              "      <td>0.0</td>\n",
              "      <td>0.0</td>\n",
              "      <td>0.0</td>\n",
              "      <td>0.0</td>\n",
              "      <td>0.0</td>\n",
              "      <td>0.0</td>\n",
              "      <td>0.0</td>\n",
              "      <td>0.0</td>\n",
              "      <td>0.0</td>\n",
              "      <td>0.0</td>\n",
              "      <td>0.0</td>\n",
              "      <td>0.0</td>\n",
              "      <td>0.0</td>\n",
              "      <td>0.0</td>\n",
              "      <td>0.0</td>\n",
              "      <td>0.0</td>\n",
              "      <td>0.0</td>\n",
              "      <td>...</td>\n",
              "      <td>0.0</td>\n",
              "      <td>0.0</td>\n",
              "      <td>0.0</td>\n",
              "      <td>0.0</td>\n",
              "      <td>0.0</td>\n",
              "      <td>0.0</td>\n",
              "      <td>0.0</td>\n",
              "      <td>0.0</td>\n",
              "      <td>0.0</td>\n",
              "      <td>0.0</td>\n",
              "      <td>0.0</td>\n",
              "      <td>0.0</td>\n",
              "      <td>0.0</td>\n",
              "      <td>0.0</td>\n",
              "      <td>0.0</td>\n",
              "      <td>0.0</td>\n",
              "      <td>0.0</td>\n",
              "      <td>0.0</td>\n",
              "      <td>0.0</td>\n",
              "      <td>0.0</td>\n",
              "      <td>0.0</td>\n",
              "      <td>0.0</td>\n",
              "      <td>0.0</td>\n",
              "      <td>0.0</td>\n",
              "      <td>0.0</td>\n",
              "      <td>0.0</td>\n",
              "      <td>0.0</td>\n",
              "      <td>0.0</td>\n",
              "      <td>0.0</td>\n",
              "      <td>0.0</td>\n",
              "      <td>0.0</td>\n",
              "      <td>0.0</td>\n",
              "      <td>0.0</td>\n",
              "      <td>0.0</td>\n",
              "      <td>0.0</td>\n",
              "      <td>0.0</td>\n",
              "      <td>0.0</td>\n",
              "      <td>0.0</td>\n",
              "      <td>0.0</td>\n",
              "      <td>0.0</td>\n",
              "    </tr>\n",
              "    <tr>\n",
              "      <th>3</th>\n",
              "      <td>0.0</td>\n",
              "      <td>0.0</td>\n",
              "      <td>0.0</td>\n",
              "      <td>0.0</td>\n",
              "      <td>0.0</td>\n",
              "      <td>0.0</td>\n",
              "      <td>0.0</td>\n",
              "      <td>0.0</td>\n",
              "      <td>0.0</td>\n",
              "      <td>0.0</td>\n",
              "      <td>0.0</td>\n",
              "      <td>0.0</td>\n",
              "      <td>0.0</td>\n",
              "      <td>0.0</td>\n",
              "      <td>0.0</td>\n",
              "      <td>0.0</td>\n",
              "      <td>0.0</td>\n",
              "      <td>0.0</td>\n",
              "      <td>0.0</td>\n",
              "      <td>0.0</td>\n",
              "      <td>0.0</td>\n",
              "      <td>0.0</td>\n",
              "      <td>0.0</td>\n",
              "      <td>0.0</td>\n",
              "      <td>0.0</td>\n",
              "      <td>0.0</td>\n",
              "      <td>0.0</td>\n",
              "      <td>0.0</td>\n",
              "      <td>0.0</td>\n",
              "      <td>0.0</td>\n",
              "      <td>0.0</td>\n",
              "      <td>0.0</td>\n",
              "      <td>0.0</td>\n",
              "      <td>0.0</td>\n",
              "      <td>0.0</td>\n",
              "      <td>0.0</td>\n",
              "      <td>0.0</td>\n",
              "      <td>0.0</td>\n",
              "      <td>0.0</td>\n",
              "      <td>0.0</td>\n",
              "      <td>...</td>\n",
              "      <td>0.0</td>\n",
              "      <td>0.0</td>\n",
              "      <td>0.0</td>\n",
              "      <td>0.0</td>\n",
              "      <td>0.0</td>\n",
              "      <td>0.0</td>\n",
              "      <td>0.0</td>\n",
              "      <td>0.0</td>\n",
              "      <td>0.0</td>\n",
              "      <td>0.0</td>\n",
              "      <td>0.0</td>\n",
              "      <td>0.0</td>\n",
              "      <td>0.0</td>\n",
              "      <td>0.0</td>\n",
              "      <td>0.0</td>\n",
              "      <td>0.0</td>\n",
              "      <td>0.0</td>\n",
              "      <td>0.0</td>\n",
              "      <td>0.0</td>\n",
              "      <td>0.0</td>\n",
              "      <td>0.0</td>\n",
              "      <td>0.0</td>\n",
              "      <td>0.0</td>\n",
              "      <td>0.0</td>\n",
              "      <td>0.0</td>\n",
              "      <td>0.0</td>\n",
              "      <td>0.0</td>\n",
              "      <td>0.0</td>\n",
              "      <td>0.0</td>\n",
              "      <td>0.0</td>\n",
              "      <td>0.0</td>\n",
              "      <td>0.0</td>\n",
              "      <td>0.0</td>\n",
              "      <td>0.0</td>\n",
              "      <td>0.0</td>\n",
              "      <td>0.0</td>\n",
              "      <td>0.0</td>\n",
              "      <td>0.0</td>\n",
              "      <td>0.0</td>\n",
              "      <td>0.0</td>\n",
              "    </tr>\n",
              "    <tr>\n",
              "      <th>4</th>\n",
              "      <td>0.0</td>\n",
              "      <td>0.0</td>\n",
              "      <td>0.0</td>\n",
              "      <td>0.0</td>\n",
              "      <td>0.0</td>\n",
              "      <td>0.0</td>\n",
              "      <td>0.0</td>\n",
              "      <td>0.0</td>\n",
              "      <td>0.0</td>\n",
              "      <td>0.0</td>\n",
              "      <td>0.0</td>\n",
              "      <td>0.0</td>\n",
              "      <td>0.0</td>\n",
              "      <td>0.0</td>\n",
              "      <td>0.0</td>\n",
              "      <td>0.0</td>\n",
              "      <td>0.0</td>\n",
              "      <td>0.0</td>\n",
              "      <td>0.0</td>\n",
              "      <td>0.0</td>\n",
              "      <td>0.0</td>\n",
              "      <td>0.0</td>\n",
              "      <td>0.0</td>\n",
              "      <td>0.0</td>\n",
              "      <td>0.0</td>\n",
              "      <td>0.0</td>\n",
              "      <td>0.0</td>\n",
              "      <td>0.0</td>\n",
              "      <td>0.0</td>\n",
              "      <td>0.0</td>\n",
              "      <td>0.0</td>\n",
              "      <td>0.0</td>\n",
              "      <td>0.0</td>\n",
              "      <td>0.0</td>\n",
              "      <td>0.0</td>\n",
              "      <td>0.0</td>\n",
              "      <td>0.0</td>\n",
              "      <td>0.0</td>\n",
              "      <td>0.0</td>\n",
              "      <td>0.0</td>\n",
              "      <td>...</td>\n",
              "      <td>0.0</td>\n",
              "      <td>0.0</td>\n",
              "      <td>0.0</td>\n",
              "      <td>0.0</td>\n",
              "      <td>0.0</td>\n",
              "      <td>0.0</td>\n",
              "      <td>0.0</td>\n",
              "      <td>0.0</td>\n",
              "      <td>0.0</td>\n",
              "      <td>0.0</td>\n",
              "      <td>0.0</td>\n",
              "      <td>0.0</td>\n",
              "      <td>0.0</td>\n",
              "      <td>0.0</td>\n",
              "      <td>0.0</td>\n",
              "      <td>0.0</td>\n",
              "      <td>0.0</td>\n",
              "      <td>0.0</td>\n",
              "      <td>0.0</td>\n",
              "      <td>0.0</td>\n",
              "      <td>0.0</td>\n",
              "      <td>0.0</td>\n",
              "      <td>0.0</td>\n",
              "      <td>0.0</td>\n",
              "      <td>0.0</td>\n",
              "      <td>0.0</td>\n",
              "      <td>0.0</td>\n",
              "      <td>0.0</td>\n",
              "      <td>0.0</td>\n",
              "      <td>0.0</td>\n",
              "      <td>0.0</td>\n",
              "      <td>0.0</td>\n",
              "      <td>0.0</td>\n",
              "      <td>0.0</td>\n",
              "      <td>0.0</td>\n",
              "      <td>0.0</td>\n",
              "      <td>0.0</td>\n",
              "      <td>0.0</td>\n",
              "      <td>0.0</td>\n",
              "      <td>0.0</td>\n",
              "    </tr>\n",
              "    <tr>\n",
              "      <th>5</th>\n",
              "      <td>0.0</td>\n",
              "      <td>0.0</td>\n",
              "      <td>0.0</td>\n",
              "      <td>0.0</td>\n",
              "      <td>0.0</td>\n",
              "      <td>0.0</td>\n",
              "      <td>0.0</td>\n",
              "      <td>0.0</td>\n",
              "      <td>0.0</td>\n",
              "      <td>0.0</td>\n",
              "      <td>0.0</td>\n",
              "      <td>0.0</td>\n",
              "      <td>0.0</td>\n",
              "      <td>0.0</td>\n",
              "      <td>0.0</td>\n",
              "      <td>3.0</td>\n",
              "      <td>0.0</td>\n",
              "      <td>0.0</td>\n",
              "      <td>0.0</td>\n",
              "      <td>0.0</td>\n",
              "      <td>0.0</td>\n",
              "      <td>0.0</td>\n",
              "      <td>0.0</td>\n",
              "      <td>0.0</td>\n",
              "      <td>0.0</td>\n",
              "      <td>0.0</td>\n",
              "      <td>0.0</td>\n",
              "      <td>0.0</td>\n",
              "      <td>5.0</td>\n",
              "      <td>0.0</td>\n",
              "      <td>0.0</td>\n",
              "      <td>4.0</td>\n",
              "      <td>0.0</td>\n",
              "      <td>4.0</td>\n",
              "      <td>0.0</td>\n",
              "      <td>3.0</td>\n",
              "      <td>0.0</td>\n",
              "      <td>0.0</td>\n",
              "      <td>3.0</td>\n",
              "      <td>0.0</td>\n",
              "      <td>...</td>\n",
              "      <td>0.0</td>\n",
              "      <td>0.0</td>\n",
              "      <td>0.0</td>\n",
              "      <td>0.0</td>\n",
              "      <td>0.0</td>\n",
              "      <td>0.0</td>\n",
              "      <td>0.0</td>\n",
              "      <td>0.0</td>\n",
              "      <td>0.0</td>\n",
              "      <td>0.0</td>\n",
              "      <td>0.0</td>\n",
              "      <td>0.0</td>\n",
              "      <td>0.0</td>\n",
              "      <td>0.0</td>\n",
              "      <td>0.0</td>\n",
              "      <td>0.0</td>\n",
              "      <td>0.0</td>\n",
              "      <td>0.0</td>\n",
              "      <td>0.0</td>\n",
              "      <td>0.0</td>\n",
              "      <td>0.0</td>\n",
              "      <td>0.0</td>\n",
              "      <td>0.0</td>\n",
              "      <td>0.0</td>\n",
              "      <td>0.0</td>\n",
              "      <td>0.0</td>\n",
              "      <td>0.0</td>\n",
              "      <td>0.0</td>\n",
              "      <td>0.0</td>\n",
              "      <td>0.0</td>\n",
              "      <td>0.0</td>\n",
              "      <td>0.0</td>\n",
              "      <td>0.0</td>\n",
              "      <td>0.0</td>\n",
              "      <td>0.0</td>\n",
              "      <td>0.0</td>\n",
              "      <td>0.0</td>\n",
              "      <td>0.0</td>\n",
              "      <td>0.0</td>\n",
              "      <td>0.0</td>\n",
              "    </tr>\n",
              "  </tbody>\n",
              "</table>\n",
              "<p>5 rows × 3623 columns</p>\n",
              "</div>"
            ],
            "text/plain": [
              "movie_id  1     2     3     4     5     ...  3948  3949  3950  3951  3952\n",
              "user_id                                 ...                              \n",
              "1          5.0   0.0   0.0   0.0   0.0  ...   0.0   0.0   0.0   0.0   0.0\n",
              "2          0.0   0.0   0.0   0.0   0.0  ...   0.0   0.0   0.0   0.0   0.0\n",
              "3          0.0   0.0   0.0   0.0   0.0  ...   0.0   0.0   0.0   0.0   0.0\n",
              "4          0.0   0.0   0.0   0.0   0.0  ...   0.0   0.0   0.0   0.0   0.0\n",
              "5          0.0   0.0   0.0   0.0   0.0  ...   0.0   0.0   0.0   0.0   0.0\n",
              "\n",
              "[5 rows x 3623 columns]"
            ]
          },
          "metadata": {
            "tags": []
          },
          "execution_count": 9
        }
      ]
    },
    {
      "cell_type": "markdown",
      "metadata": {
        "id": "yIVIpe88DkM9"
      },
      "source": [
        "### SVD"
      ]
    },
    {
      "cell_type": "code",
      "metadata": {
        "id": "ClsaFizZ7ooP"
      },
      "source": [
        "from scipy import linalg"
      ],
      "execution_count": null,
      "outputs": []
    },
    {
      "cell_type": "code",
      "metadata": {
        "id": "tPu8_fid7uLY"
      },
      "source": [
        "U, sigma, Vt = linalg.svd(rating_matrix)"
      ],
      "execution_count": null,
      "outputs": []
    },
    {
      "cell_type": "code",
      "metadata": {
        "colab": {
          "base_uri": "https://localhost:8080/"
        },
        "id": "vlAlDfGE8Bc3",
        "outputId": "7f932201-45fc-410e-dcc6-0b717d914fcf"
      },
      "source": [
        "U.shape"
      ],
      "execution_count": null,
      "outputs": [
        {
          "output_type": "execute_result",
          "data": {
            "text/plain": [
              "(6039, 6039)"
            ]
          },
          "metadata": {
            "tags": []
          },
          "execution_count": 119
        }
      ]
    },
    {
      "cell_type": "code",
      "metadata": {
        "colab": {
          "base_uri": "https://localhost:8080/"
        },
        "id": "cGmyzhfo8iH7",
        "outputId": "5f027d62-6663-4e3f-b9cd-019a4d4151aa"
      },
      "source": [
        "sigma.shape"
      ],
      "execution_count": null,
      "outputs": [
        {
          "output_type": "execute_result",
          "data": {
            "text/plain": [
              "(3628,)"
            ]
          },
          "metadata": {
            "tags": []
          },
          "execution_count": 120
        }
      ]
    },
    {
      "cell_type": "code",
      "metadata": {
        "colab": {
          "base_uri": "https://localhost:8080/"
        },
        "id": "wdgGdS0t8jTn",
        "outputId": "30dfed79-f863-43ec-8d59-f1abcdb1b6bf"
      },
      "source": [
        "Vt.shape"
      ],
      "execution_count": null,
      "outputs": [
        {
          "output_type": "execute_result",
          "data": {
            "text/plain": [
              "(3628, 3628)"
            ]
          },
          "metadata": {
            "tags": []
          },
          "execution_count": 121
        }
      ]
    },
    {
      "cell_type": "markdown",
      "metadata": {
        "id": "TCpzjEsX8mNY"
      },
      "source": [
        "### Truncated SVD   \n",
        "상위 k개의 잠재 요인을 모아서 축소 시킨 것"
      ]
    },
    {
      "cell_type": "code",
      "metadata": {
        "id": "vXfAjbg-82t_"
      },
      "source": [
        "from scipy.sparse.linalg import svds, eigs"
      ],
      "execution_count": null,
      "outputs": []
    },
    {
      "cell_type": "code",
      "metadata": {
        "id": "az6F4T2d84Bv"
      },
      "source": [
        "U, sigma, Vt = svds(rating_matrix, k = 12)"
      ],
      "execution_count": null,
      "outputs": []
    },
    {
      "cell_type": "code",
      "metadata": {
        "colab": {
          "base_uri": "https://localhost:8080/"
        },
        "id": "ayHAhAyx8kkV",
        "outputId": "e079ca08-4a08-4d49-8ddf-6a117fe1e936"
      },
      "source": [
        "U.shape # 차원이 축소된 모습을 볼 수 있다! 내가 지정한 k대로"
      ],
      "execution_count": null,
      "outputs": [
        {
          "output_type": "execute_result",
          "data": {
            "text/plain": [
              "(6039, 12)"
            ]
          },
          "metadata": {
            "tags": []
          },
          "execution_count": 124
        }
      ]
    },
    {
      "cell_type": "code",
      "metadata": {
        "colab": {
          "base_uri": "https://localhost:8080/"
        },
        "id": "1Y_ZGg499NmB",
        "outputId": "7be3d56c-0669-4c14-8f4e-fab3b9722979"
      },
      "source": [
        "sigma.shape # 0이 아닌 값만 1차원 행렬로 표현된 상태, 0이 포함된 대칭행렬로 변환할 때에는 np.diag 사용 (diagonal)"
      ],
      "execution_count": null,
      "outputs": [
        {
          "output_type": "execute_result",
          "data": {
            "text/plain": [
              "(12,)"
            ]
          },
          "metadata": {
            "tags": []
          },
          "execution_count": 12
        }
      ]
    },
    {
      "cell_type": "code",
      "metadata": {
        "id": "LVeYozN-9UHP"
      },
      "source": [
        "sigma = np.diag(sigma)"
      ],
      "execution_count": null,
      "outputs": []
    },
    {
      "cell_type": "code",
      "metadata": {
        "colab": {
          "base_uri": "https://localhost:8080/"
        },
        "id": "mPLVSFba9eY3",
        "outputId": "d2a4c583-e2dd-41d6-fb10-4fd2df0f107b"
      },
      "source": [
        "sigma.shape"
      ],
      "execution_count": null,
      "outputs": [
        {
          "output_type": "execute_result",
          "data": {
            "text/plain": [
              "(12, 12)"
            ]
          },
          "metadata": {
            "tags": []
          },
          "execution_count": 127
        }
      ]
    },
    {
      "cell_type": "markdown",
      "metadata": {
        "id": "NIfdxqKM9m8C"
      },
      "source": [
        "1. user-movie 평점 행렬 사용, implicit 이므로 평균 점수가 없으므로 조정할 필요 X\n",
        "2. 차원 축소한 SVD 적용했음 (쪼갠 것)\n",
        "3. sigma를 대칭행렬로 바꿔줌\n",
        "   \n",
        "다음 할일은? 다시 원본 행렬로 복구시키기, 강의에서처럼 prediction을 구하는 것 😎"
      ]
    },
    {
      "cell_type": "code",
      "metadata": {
        "id": "KFkR-PYq-fmd"
      },
      "source": [
        "pred_matrix = np.dot(np.dot(U, sigma), Vt)"
      ],
      "execution_count": null,
      "outputs": []
    },
    {
      "cell_type": "code",
      "metadata": {
        "colab": {
          "base_uri": "https://localhost:8080/",
          "height": 284
        },
        "id": "ikn_AdZ99f7J",
        "outputId": "c8a8caff-dc13-4e1c-c846-4969d8bc4c27"
      },
      "source": [
        "prediction = pd.DataFrame(pred_matrix, columns = rating_matrix.columns, index = rating_matrix.index)\n",
        "prediction.head()"
      ],
      "execution_count": null,
      "outputs": [
        {
          "output_type": "execute_result",
          "data": {
            "text/html": [
              "<div>\n",
              "<style scoped>\n",
              "    .dataframe tbody tr th:only-of-type {\n",
              "        vertical-align: middle;\n",
              "    }\n",
              "\n",
              "    .dataframe tbody tr th {\n",
              "        vertical-align: top;\n",
              "    }\n",
              "\n",
              "    .dataframe thead th {\n",
              "        text-align: right;\n",
              "    }\n",
              "</style>\n",
              "<table border=\"1\" class=\"dataframe\">\n",
              "  <thead>\n",
              "    <tr style=\"text-align: right;\">\n",
              "      <th>movie_id</th>\n",
              "      <th>1</th>\n",
              "      <th>2</th>\n",
              "      <th>3</th>\n",
              "      <th>4</th>\n",
              "      <th>5</th>\n",
              "      <th>6</th>\n",
              "      <th>7</th>\n",
              "      <th>8</th>\n",
              "      <th>9</th>\n",
              "      <th>10</th>\n",
              "      <th>11</th>\n",
              "      <th>12</th>\n",
              "      <th>13</th>\n",
              "      <th>14</th>\n",
              "      <th>15</th>\n",
              "      <th>16</th>\n",
              "      <th>17</th>\n",
              "      <th>18</th>\n",
              "      <th>19</th>\n",
              "      <th>20</th>\n",
              "      <th>21</th>\n",
              "      <th>22</th>\n",
              "      <th>23</th>\n",
              "      <th>24</th>\n",
              "      <th>25</th>\n",
              "      <th>26</th>\n",
              "      <th>27</th>\n",
              "      <th>28</th>\n",
              "      <th>29</th>\n",
              "      <th>30</th>\n",
              "      <th>31</th>\n",
              "      <th>32</th>\n",
              "      <th>33</th>\n",
              "      <th>34</th>\n",
              "      <th>35</th>\n",
              "      <th>36</th>\n",
              "      <th>37</th>\n",
              "      <th>38</th>\n",
              "      <th>39</th>\n",
              "      <th>40</th>\n",
              "      <th>...</th>\n",
              "      <th>3913</th>\n",
              "      <th>3914</th>\n",
              "      <th>3915</th>\n",
              "      <th>3916</th>\n",
              "      <th>3917</th>\n",
              "      <th>3918</th>\n",
              "      <th>3919</th>\n",
              "      <th>3920</th>\n",
              "      <th>3921</th>\n",
              "      <th>3922</th>\n",
              "      <th>3923</th>\n",
              "      <th>3924</th>\n",
              "      <th>3925</th>\n",
              "      <th>3926</th>\n",
              "      <th>3927</th>\n",
              "      <th>3928</th>\n",
              "      <th>3929</th>\n",
              "      <th>3930</th>\n",
              "      <th>3931</th>\n",
              "      <th>3932</th>\n",
              "      <th>3933</th>\n",
              "      <th>3934</th>\n",
              "      <th>3935</th>\n",
              "      <th>3936</th>\n",
              "      <th>3937</th>\n",
              "      <th>3938</th>\n",
              "      <th>3939</th>\n",
              "      <th>3940</th>\n",
              "      <th>3941</th>\n",
              "      <th>3942</th>\n",
              "      <th>3943</th>\n",
              "      <th>3944</th>\n",
              "      <th>3945</th>\n",
              "      <th>3946</th>\n",
              "      <th>3947</th>\n",
              "      <th>3948</th>\n",
              "      <th>3949</th>\n",
              "      <th>3950</th>\n",
              "      <th>3951</th>\n",
              "      <th>3952</th>\n",
              "    </tr>\n",
              "    <tr>\n",
              "      <th>user_id</th>\n",
              "      <th></th>\n",
              "      <th></th>\n",
              "      <th></th>\n",
              "      <th></th>\n",
              "      <th></th>\n",
              "      <th></th>\n",
              "      <th></th>\n",
              "      <th></th>\n",
              "      <th></th>\n",
              "      <th></th>\n",
              "      <th></th>\n",
              "      <th></th>\n",
              "      <th></th>\n",
              "      <th></th>\n",
              "      <th></th>\n",
              "      <th></th>\n",
              "      <th></th>\n",
              "      <th></th>\n",
              "      <th></th>\n",
              "      <th></th>\n",
              "      <th></th>\n",
              "      <th></th>\n",
              "      <th></th>\n",
              "      <th></th>\n",
              "      <th></th>\n",
              "      <th></th>\n",
              "      <th></th>\n",
              "      <th></th>\n",
              "      <th></th>\n",
              "      <th></th>\n",
              "      <th></th>\n",
              "      <th></th>\n",
              "      <th></th>\n",
              "      <th></th>\n",
              "      <th></th>\n",
              "      <th></th>\n",
              "      <th></th>\n",
              "      <th></th>\n",
              "      <th></th>\n",
              "      <th></th>\n",
              "      <th></th>\n",
              "      <th></th>\n",
              "      <th></th>\n",
              "      <th></th>\n",
              "      <th></th>\n",
              "      <th></th>\n",
              "      <th></th>\n",
              "      <th></th>\n",
              "      <th></th>\n",
              "      <th></th>\n",
              "      <th></th>\n",
              "      <th></th>\n",
              "      <th></th>\n",
              "      <th></th>\n",
              "      <th></th>\n",
              "      <th></th>\n",
              "      <th></th>\n",
              "      <th></th>\n",
              "      <th></th>\n",
              "      <th></th>\n",
              "      <th></th>\n",
              "      <th></th>\n",
              "      <th></th>\n",
              "      <th></th>\n",
              "      <th></th>\n",
              "      <th></th>\n",
              "      <th></th>\n",
              "      <th></th>\n",
              "      <th></th>\n",
              "      <th></th>\n",
              "      <th></th>\n",
              "      <th></th>\n",
              "      <th></th>\n",
              "      <th></th>\n",
              "      <th></th>\n",
              "      <th></th>\n",
              "      <th></th>\n",
              "      <th></th>\n",
              "      <th></th>\n",
              "      <th></th>\n",
              "      <th></th>\n",
              "    </tr>\n",
              "  </thead>\n",
              "  <tbody>\n",
              "    <tr>\n",
              "      <th>1</th>\n",
              "      <td>1.938746</td>\n",
              "      <td>0.479019</td>\n",
              "      <td>0.190208</td>\n",
              "      <td>0.055928</td>\n",
              "      <td>0.154845</td>\n",
              "      <td>-0.405188</td>\n",
              "      <td>0.196628</td>\n",
              "      <td>0.115908</td>\n",
              "      <td>-0.070818</td>\n",
              "      <td>0.049253</td>\n",
              "      <td>0.368848</td>\n",
              "      <td>0.025319</td>\n",
              "      <td>0.167913</td>\n",
              "      <td>-0.044499</td>\n",
              "      <td>0.006199</td>\n",
              "      <td>-0.139526</td>\n",
              "      <td>0.604902</td>\n",
              "      <td>0.007999</td>\n",
              "      <td>0.024608</td>\n",
              "      <td>-0.076052</td>\n",
              "      <td>-0.552046</td>\n",
              "      <td>-0.099306</td>\n",
              "      <td>-0.057245</td>\n",
              "      <td>0.084926</td>\n",
              "      <td>0.126779</td>\n",
              "      <td>0.111468</td>\n",
              "      <td>0.063135</td>\n",
              "      <td>0.046946</td>\n",
              "      <td>0.029190</td>\n",
              "      <td>-0.041041</td>\n",
              "      <td>0.087262</td>\n",
              "      <td>0.107620</td>\n",
              "      <td>-0.004114</td>\n",
              "      <td>1.260202</td>\n",
              "      <td>-0.000290</td>\n",
              "      <td>0.486830</td>\n",
              "      <td>0.004252</td>\n",
              "      <td>0.026208</td>\n",
              "      <td>0.285073</td>\n",
              "      <td>0.023156</td>\n",
              "      <td>...</td>\n",
              "      <td>0.018113</td>\n",
              "      <td>0.036654</td>\n",
              "      <td>0.016906</td>\n",
              "      <td>0.279104</td>\n",
              "      <td>-0.061027</td>\n",
              "      <td>-0.037639</td>\n",
              "      <td>-0.036425</td>\n",
              "      <td>-0.045600</td>\n",
              "      <td>0.004137</td>\n",
              "      <td>0.000406</td>\n",
              "      <td>-0.039962</td>\n",
              "      <td>0.008913</td>\n",
              "      <td>-0.147750</td>\n",
              "      <td>-0.015760</td>\n",
              "      <td>-0.029407</td>\n",
              "      <td>0.003080</td>\n",
              "      <td>-0.061019</td>\n",
              "      <td>-0.051950</td>\n",
              "      <td>-0.001407</td>\n",
              "      <td>-0.089983</td>\n",
              "      <td>-0.008289</td>\n",
              "      <td>-0.031960</td>\n",
              "      <td>-0.024293</td>\n",
              "      <td>0.053400</td>\n",
              "      <td>-0.062681</td>\n",
              "      <td>-0.007040</td>\n",
              "      <td>-0.006345</td>\n",
              "      <td>-0.002514</td>\n",
              "      <td>-0.002038</td>\n",
              "      <td>-0.003052</td>\n",
              "      <td>-0.015492</td>\n",
              "      <td>0.002917</td>\n",
              "      <td>0.017654</td>\n",
              "      <td>-0.018641</td>\n",
              "      <td>-0.070408</td>\n",
              "      <td>0.286414</td>\n",
              "      <td>0.068671</td>\n",
              "      <td>-0.012911</td>\n",
              "      <td>0.006083</td>\n",
              "      <td>0.016453</td>\n",
              "    </tr>\n",
              "    <tr>\n",
              "      <th>2</th>\n",
              "      <td>1.109222</td>\n",
              "      <td>0.240252</td>\n",
              "      <td>0.194046</td>\n",
              "      <td>0.066219</td>\n",
              "      <td>0.161931</td>\n",
              "      <td>1.011637</td>\n",
              "      <td>0.428836</td>\n",
              "      <td>0.012923</td>\n",
              "      <td>0.086658</td>\n",
              "      <td>0.964677</td>\n",
              "      <td>1.147099</td>\n",
              "      <td>-0.057639</td>\n",
              "      <td>-0.003984</td>\n",
              "      <td>0.118032</td>\n",
              "      <td>0.084587</td>\n",
              "      <td>0.509479</td>\n",
              "      <td>0.908312</td>\n",
              "      <td>-0.071486</td>\n",
              "      <td>0.037164</td>\n",
              "      <td>0.124819</td>\n",
              "      <td>1.087826</td>\n",
              "      <td>0.342475</td>\n",
              "      <td>0.118176</td>\n",
              "      <td>0.216002</td>\n",
              "      <td>0.690086</td>\n",
              "      <td>0.049647</td>\n",
              "      <td>0.013586</td>\n",
              "      <td>0.096522</td>\n",
              "      <td>-0.283031</td>\n",
              "      <td>0.010522</td>\n",
              "      <td>0.126717</td>\n",
              "      <td>0.653860</td>\n",
              "      <td>0.006962</td>\n",
              "      <td>1.009774</td>\n",
              "      <td>0.043724</td>\n",
              "      <td>0.856665</td>\n",
              "      <td>-0.005023</td>\n",
              "      <td>-0.001080</td>\n",
              "      <td>0.398339</td>\n",
              "      <td>0.041627</td>\n",
              "      <td>...</td>\n",
              "      <td>-0.018821</td>\n",
              "      <td>0.007768</td>\n",
              "      <td>0.055644</td>\n",
              "      <td>0.549491</td>\n",
              "      <td>-0.237527</td>\n",
              "      <td>-0.153206</td>\n",
              "      <td>-0.045157</td>\n",
              "      <td>-0.055400</td>\n",
              "      <td>-0.016424</td>\n",
              "      <td>-0.017843</td>\n",
              "      <td>-0.020463</td>\n",
              "      <td>0.001677</td>\n",
              "      <td>-0.091857</td>\n",
              "      <td>0.107785</td>\n",
              "      <td>0.153273</td>\n",
              "      <td>-0.038279</td>\n",
              "      <td>0.052887</td>\n",
              "      <td>-0.076144</td>\n",
              "      <td>-0.009750</td>\n",
              "      <td>-0.043639</td>\n",
              "      <td>-0.002778</td>\n",
              "      <td>0.000209</td>\n",
              "      <td>-0.015775</td>\n",
              "      <td>0.013738</td>\n",
              "      <td>-0.000862</td>\n",
              "      <td>-0.016304</td>\n",
              "      <td>-0.014827</td>\n",
              "      <td>-0.012417</td>\n",
              "      <td>-0.020330</td>\n",
              "      <td>-0.013720</td>\n",
              "      <td>-0.011018</td>\n",
              "      <td>0.002567</td>\n",
              "      <td>-0.005134</td>\n",
              "      <td>0.008362</td>\n",
              "      <td>0.009694</td>\n",
              "      <td>0.382059</td>\n",
              "      <td>-0.028960</td>\n",
              "      <td>0.025656</td>\n",
              "      <td>0.004381</td>\n",
              "      <td>0.317101</td>\n",
              "    </tr>\n",
              "    <tr>\n",
              "      <th>3</th>\n",
              "      <td>1.167225</td>\n",
              "      <td>0.110076</td>\n",
              "      <td>0.124693</td>\n",
              "      <td>-0.028969</td>\n",
              "      <td>0.056872</td>\n",
              "      <td>0.267152</td>\n",
              "      <td>0.031399</td>\n",
              "      <td>0.008173</td>\n",
              "      <td>0.006030</td>\n",
              "      <td>0.412596</td>\n",
              "      <td>0.156767</td>\n",
              "      <td>-0.000270</td>\n",
              "      <td>0.001343</td>\n",
              "      <td>-0.083587</td>\n",
              "      <td>0.005462</td>\n",
              "      <td>-0.022159</td>\n",
              "      <td>-0.153868</td>\n",
              "      <td>0.003438</td>\n",
              "      <td>0.053576</td>\n",
              "      <td>0.003834</td>\n",
              "      <td>0.463640</td>\n",
              "      <td>-0.107573</td>\n",
              "      <td>-0.006474</td>\n",
              "      <td>0.002566</td>\n",
              "      <td>-0.056529</td>\n",
              "      <td>-0.030158</td>\n",
              "      <td>-0.016562</td>\n",
              "      <td>-0.096548</td>\n",
              "      <td>-0.077513</td>\n",
              "      <td>-0.057029</td>\n",
              "      <td>-0.046053</td>\n",
              "      <td>-0.037091</td>\n",
              "      <td>0.000661</td>\n",
              "      <td>0.405269</td>\n",
              "      <td>-0.077831</td>\n",
              "      <td>-0.119347</td>\n",
              "      <td>0.001396</td>\n",
              "      <td>0.007974</td>\n",
              "      <td>0.234771</td>\n",
              "      <td>-0.030508</td>\n",
              "      <td>...</td>\n",
              "      <td>-0.000803</td>\n",
              "      <td>-0.046552</td>\n",
              "      <td>-0.032328</td>\n",
              "      <td>0.165131</td>\n",
              "      <td>-0.035868</td>\n",
              "      <td>-0.045381</td>\n",
              "      <td>-0.025057</td>\n",
              "      <td>-0.024081</td>\n",
              "      <td>-0.003777</td>\n",
              "      <td>-0.002526</td>\n",
              "      <td>-0.043625</td>\n",
              "      <td>0.000932</td>\n",
              "      <td>-0.050237</td>\n",
              "      <td>-0.030616</td>\n",
              "      <td>-0.055037</td>\n",
              "      <td>-0.007963</td>\n",
              "      <td>-0.018195</td>\n",
              "      <td>-0.043394</td>\n",
              "      <td>-0.005964</td>\n",
              "      <td>-0.097714</td>\n",
              "      <td>-0.011388</td>\n",
              "      <td>-0.019307</td>\n",
              "      <td>-0.023053</td>\n",
              "      <td>-0.026896</td>\n",
              "      <td>0.000396</td>\n",
              "      <td>-0.005636</td>\n",
              "      <td>-0.005053</td>\n",
              "      <td>-0.005657</td>\n",
              "      <td>-0.005662</td>\n",
              "      <td>-0.005872</td>\n",
              "      <td>-0.002441</td>\n",
              "      <td>-0.000516</td>\n",
              "      <td>0.003117</td>\n",
              "      <td>-0.001494</td>\n",
              "      <td>-0.020383</td>\n",
              "      <td>0.253072</td>\n",
              "      <td>-0.065974</td>\n",
              "      <td>-0.020522</td>\n",
              "      <td>-0.023951</td>\n",
              "      <td>-0.043441</td>\n",
              "    </tr>\n",
              "    <tr>\n",
              "      <th>4</th>\n",
              "      <td>0.231585</td>\n",
              "      <td>-0.019126</td>\n",
              "      <td>-0.127971</td>\n",
              "      <td>-0.065215</td>\n",
              "      <td>-0.140680</td>\n",
              "      <td>0.383930</td>\n",
              "      <td>-0.136851</td>\n",
              "      <td>-0.005535</td>\n",
              "      <td>-0.007223</td>\n",
              "      <td>0.283062</td>\n",
              "      <td>-0.253501</td>\n",
              "      <td>-0.048337</td>\n",
              "      <td>-0.012664</td>\n",
              "      <td>-0.080016</td>\n",
              "      <td>-0.019747</td>\n",
              "      <td>-0.025682</td>\n",
              "      <td>0.061912</td>\n",
              "      <td>-0.037024</td>\n",
              "      <td>-0.136134</td>\n",
              "      <td>-0.013424</td>\n",
              "      <td>0.116151</td>\n",
              "      <td>-0.054834</td>\n",
              "      <td>-0.009265</td>\n",
              "      <td>-0.027188</td>\n",
              "      <td>0.002677</td>\n",
              "      <td>-0.031214</td>\n",
              "      <td>-0.030863</td>\n",
              "      <td>0.002531</td>\n",
              "      <td>0.063869</td>\n",
              "      <td>-0.010672</td>\n",
              "      <td>-0.064614</td>\n",
              "      <td>0.131660</td>\n",
              "      <td>0.000261</td>\n",
              "      <td>0.014987</td>\n",
              "      <td>-0.014435</td>\n",
              "      <td>-0.054811</td>\n",
              "      <td>-0.002687</td>\n",
              "      <td>-0.022163</td>\n",
              "      <td>-0.294862</td>\n",
              "      <td>-0.010651</td>\n",
              "      <td>...</td>\n",
              "      <td>-0.008697</td>\n",
              "      <td>-0.014835</td>\n",
              "      <td>-0.006653</td>\n",
              "      <td>0.035548</td>\n",
              "      <td>0.044874</td>\n",
              "      <td>0.010838</td>\n",
              "      <td>-0.000245</td>\n",
              "      <td>-0.004276</td>\n",
              "      <td>-0.008479</td>\n",
              "      <td>-0.009947</td>\n",
              "      <td>-0.011865</td>\n",
              "      <td>-0.002398</td>\n",
              "      <td>-0.041072</td>\n",
              "      <td>-0.005560</td>\n",
              "      <td>-0.002346</td>\n",
              "      <td>-0.025142</td>\n",
              "      <td>-0.028175</td>\n",
              "      <td>0.009401</td>\n",
              "      <td>0.000607</td>\n",
              "      <td>0.007937</td>\n",
              "      <td>-0.001697</td>\n",
              "      <td>-0.002552</td>\n",
              "      <td>-0.001413</td>\n",
              "      <td>0.002885</td>\n",
              "      <td>0.011322</td>\n",
              "      <td>-0.000645</td>\n",
              "      <td>-0.001273</td>\n",
              "      <td>-0.004387</td>\n",
              "      <td>0.000600</td>\n",
              "      <td>-0.001974</td>\n",
              "      <td>-0.018325</td>\n",
              "      <td>-0.003898</td>\n",
              "      <td>-0.002658</td>\n",
              "      <td>-0.011512</td>\n",
              "      <td>-0.002186</td>\n",
              "      <td>-0.043844</td>\n",
              "      <td>-0.037747</td>\n",
              "      <td>-0.005807</td>\n",
              "      <td>-0.011554</td>\n",
              "      <td>-0.014535</td>\n",
              "    </tr>\n",
              "    <tr>\n",
              "      <th>5</th>\n",
              "      <td>1.025913</td>\n",
              "      <td>-0.025778</td>\n",
              "      <td>-0.084323</td>\n",
              "      <td>0.051748</td>\n",
              "      <td>-0.098811</td>\n",
              "      <td>1.138708</td>\n",
              "      <td>-0.018205</td>\n",
              "      <td>0.002852</td>\n",
              "      <td>-0.011485</td>\n",
              "      <td>0.111007</td>\n",
              "      <td>0.218093</td>\n",
              "      <td>-0.036093</td>\n",
              "      <td>-0.005404</td>\n",
              "      <td>0.172457</td>\n",
              "      <td>-0.049180</td>\n",
              "      <td>0.955322</td>\n",
              "      <td>0.915103</td>\n",
              "      <td>0.285794</td>\n",
              "      <td>-0.016923</td>\n",
              "      <td>-0.036315</td>\n",
              "      <td>1.059128</td>\n",
              "      <td>0.261477</td>\n",
              "      <td>0.009030</td>\n",
              "      <td>0.223637</td>\n",
              "      <td>1.292800</td>\n",
              "      <td>0.154618</td>\n",
              "      <td>0.023667</td>\n",
              "      <td>0.380390</td>\n",
              "      <td>0.937776</td>\n",
              "      <td>0.196728</td>\n",
              "      <td>0.027561</td>\n",
              "      <td>1.853588</td>\n",
              "      <td>0.002157</td>\n",
              "      <td>1.307976</td>\n",
              "      <td>0.147367</td>\n",
              "      <td>1.301487</td>\n",
              "      <td>0.006747</td>\n",
              "      <td>-0.028156</td>\n",
              "      <td>1.300716</td>\n",
              "      <td>0.048080</td>\n",
              "      <td>...</td>\n",
              "      <td>0.053586</td>\n",
              "      <td>0.120519</td>\n",
              "      <td>0.227780</td>\n",
              "      <td>0.241623</td>\n",
              "      <td>0.193587</td>\n",
              "      <td>0.095150</td>\n",
              "      <td>0.013593</td>\n",
              "      <td>0.143198</td>\n",
              "      <td>-0.007346</td>\n",
              "      <td>0.001745</td>\n",
              "      <td>0.007057</td>\n",
              "      <td>-0.019362</td>\n",
              "      <td>0.243357</td>\n",
              "      <td>-0.083653</td>\n",
              "      <td>-0.082154</td>\n",
              "      <td>-0.032792</td>\n",
              "      <td>0.074764</td>\n",
              "      <td>0.032981</td>\n",
              "      <td>0.001451</td>\n",
              "      <td>0.078116</td>\n",
              "      <td>0.002364</td>\n",
              "      <td>0.017755</td>\n",
              "      <td>0.021789</td>\n",
              "      <td>0.030423</td>\n",
              "      <td>0.006149</td>\n",
              "      <td>0.006884</td>\n",
              "      <td>0.010394</td>\n",
              "      <td>0.009944</td>\n",
              "      <td>0.003874</td>\n",
              "      <td>0.002384</td>\n",
              "      <td>0.144594</td>\n",
              "      <td>0.001090</td>\n",
              "      <td>0.002074</td>\n",
              "      <td>0.040675</td>\n",
              "      <td>0.059725</td>\n",
              "      <td>0.819535</td>\n",
              "      <td>0.807848</td>\n",
              "      <td>0.090164</td>\n",
              "      <td>0.095593</td>\n",
              "      <td>0.586609</td>\n",
              "    </tr>\n",
              "  </tbody>\n",
              "</table>\n",
              "<p>5 rows × 3623 columns</p>\n",
              "</div>"
            ],
            "text/plain": [
              "movie_id      1         2         3     ...      3950      3951      3952\n",
              "user_id                                 ...                              \n",
              "1         1.938746  0.479019  0.190208  ... -0.012911  0.006083  0.016453\n",
              "2         1.109222  0.240252  0.194046  ...  0.025656  0.004381  0.317101\n",
              "3         1.167225  0.110076  0.124693  ... -0.020522 -0.023951 -0.043441\n",
              "4         0.231585 -0.019126 -0.127971  ... -0.005807 -0.011554 -0.014535\n",
              "5         1.025913 -0.025778 -0.084323  ...  0.090164  0.095593  0.586609\n",
              "\n",
              "[5 rows x 3623 columns]"
            ]
          },
          "metadata": {
            "tags": []
          },
          "execution_count": 15
        }
      ]
    },
    {
      "cell_type": "code",
      "metadata": {
        "id": "CyL9bmbn-sqV"
      },
      "source": [
        "mean_array = np.array(prediction.mean(axis=1))"
      ],
      "execution_count": null,
      "outputs": []
    },
    {
      "cell_type": "code",
      "metadata": {
        "colab": {
          "base_uri": "https://localhost:8080/"
        },
        "id": "ThF73qsB--fU",
        "outputId": "ee9f2e7a-b56b-4bb8-f302-421bcadfabe4"
      },
      "source": [
        "mean_array.mean()"
      ],
      "execution_count": null,
      "outputs": [
        {
          "output_type": "execute_result",
          "data": {
            "text/plain": [
              "0.1421210465846453"
            ]
          },
          "metadata": {
            "tags": []
          },
          "execution_count": 17
        }
      ]
    },
    {
      "cell_type": "code",
      "metadata": {
        "colab": {
          "base_uri": "https://localhost:8080/"
        },
        "id": "1Ro98YAWOTa2",
        "outputId": "c9217a57-1eba-4916-939b-2d37b9ba2755"
      },
      "source": [
        "mean_array.shape"
      ],
      "execution_count": null,
      "outputs": [
        {
          "output_type": "execute_result",
          "data": {
            "text/plain": [
              "(6039,)"
            ]
          },
          "metadata": {
            "tags": []
          },
          "execution_count": 173
        }
      ]
    },
    {
      "cell_type": "code",
      "metadata": {
        "colab": {
          "base_uri": "https://localhost:8080/"
        },
        "id": "JIKYMPmgO2IG",
        "outputId": "afda0718-c13d-41ef-84c3-0967702dfd6d"
      },
      "source": [
        "mean_array[0]"
      ],
      "execution_count": null,
      "outputs": [
        {
          "output_type": "execute_result",
          "data": {
            "text/plain": [
              "0.013596149138959755"
            ]
          },
          "metadata": {
            "tags": []
          },
          "execution_count": 178
        }
      ]
    },
    {
      "cell_type": "markdown",
      "metadata": {
        "id": "uxKoDBluEdtq"
      },
      "source": [
        "### Recall\n",
        "성능을 두가지로 보면 어떨까 싶은데,   \n",
        "1. 전체 평균 and 중앙값\n",
        "2. k를 조정해서 봐도 좋을 것 같다"
      ]
    },
    {
      "cell_type": "code",
      "metadata": {
        "id": "I4d5c-fpeYRl"
      },
      "source": [
        "test.drop('rating',axis=1,inplace=True)"
      ],
      "execution_count": null,
      "outputs": []
    },
    {
      "cell_type": "code",
      "metadata": {
        "id": "tJVVFqeCebAH"
      },
      "source": [
        "test.set_index('user_id', inplace=True)"
      ],
      "execution_count": null,
      "outputs": []
    },
    {
      "cell_type": "code",
      "metadata": {
        "id": "0BE77CRPP65Y"
      },
      "source": [
        "def rec_movies(uid):\n",
        "  movies = []\n",
        "  for b in prediction.columns:\n",
        "      prediction.loc[uid][b] > mean_array.mean()\n",
        "      movies.append(b)\n",
        "  return movies"
      ],
      "execution_count": null,
      "outputs": []
    },
    {
      "cell_type": "code",
      "metadata": {
        "id": "h468z2zHf1vB"
      },
      "source": [
        "def find_watched_list(uid):\n",
        "  for a in test['movie_id'].groupby('user_id'):\n",
        "    if a[0] == uid:\n",
        "      return a[1].tolist()"
      ],
      "execution_count": null,
      "outputs": []
    },
    {
      "cell_type": "code",
      "metadata": {
        "id": "pOATiDH3AfXO"
      },
      "source": [
        "def recall_scipy(test): # train에서 볼 것 같은 영화를 추려서 test에서 실제로 봤는지 확인하기!\n",
        "  cnt = 0\n",
        "  for i in test.index:\n",
        "    rec = rec_movies(i)\n",
        "    watch = find_watched_list(i)\n",
        "    cnt += len(set(rec) & set(watch))\n",
        "  return (cnt/len(test)) *100"
      ],
      "execution_count": null,
      "outputs": []
    },
    {
      "cell_type": "code",
      "metadata": {
        "colab": {
          "base_uri": "https://localhost:8080/",
          "height": 322
        },
        "id": "13CH---pz0dC",
        "outputId": "88a1fc4b-dd0e-4a8e-d27f-0f803383fca6"
      },
      "source": [
        "print('%.2f%%' %(recall_scipy(test))) # 3시간 이상이 돌아갔는데 결과값이 나오지 않은ㅁ...ㅠㅠ함수 줄여보자"
      ],
      "execution_count": null,
      "outputs": [
        {
          "output_type": "error",
          "ename": "KeyboardInterrupt",
          "evalue": "ignored",
          "traceback": [
            "\u001b[0;31m---------------------------------------------------------------------------\u001b[0m",
            "\u001b[0;31mKeyboardInterrupt\u001b[0m                         Traceback (most recent call last)",
            "\u001b[0;32m<ipython-input-23-8a8bcae161b4>\u001b[0m in \u001b[0;36m<module>\u001b[0;34m()\u001b[0m\n\u001b[0;32m----> 1\u001b[0;31m \u001b[0mprint\u001b[0m\u001b[0;34m(\u001b[0m\u001b[0;34m'%.2f%%'\u001b[0m \u001b[0;34m%\u001b[0m\u001b[0;34m(\u001b[0m\u001b[0mrecall_scipy\u001b[0m\u001b[0;34m(\u001b[0m\u001b[0mtest\u001b[0m\u001b[0;34m)\u001b[0m\u001b[0;34m)\u001b[0m\u001b[0;34m)\u001b[0m\u001b[0;34m\u001b[0m\u001b[0;34m\u001b[0m\u001b[0m\n\u001b[0m",
            "\u001b[0;32m<ipython-input-22-fd28f62f129c>\u001b[0m in \u001b[0;36mrecall_scipy\u001b[0;34m(test)\u001b[0m\n\u001b[1;32m      2\u001b[0m   \u001b[0mcnt\u001b[0m \u001b[0;34m=\u001b[0m \u001b[0;36m0\u001b[0m\u001b[0;34m\u001b[0m\u001b[0;34m\u001b[0m\u001b[0m\n\u001b[1;32m      3\u001b[0m   \u001b[0;32mfor\u001b[0m \u001b[0mi\u001b[0m \u001b[0;32min\u001b[0m \u001b[0mtest\u001b[0m\u001b[0;34m.\u001b[0m\u001b[0mindex\u001b[0m\u001b[0;34m:\u001b[0m\u001b[0;34m\u001b[0m\u001b[0;34m\u001b[0m\u001b[0m\n\u001b[0;32m----> 4\u001b[0;31m     \u001b[0mrec\u001b[0m \u001b[0;34m=\u001b[0m \u001b[0mrec_movies\u001b[0m\u001b[0;34m(\u001b[0m\u001b[0mi\u001b[0m\u001b[0;34m)\u001b[0m\u001b[0;34m\u001b[0m\u001b[0;34m\u001b[0m\u001b[0m\n\u001b[0m\u001b[1;32m      5\u001b[0m     \u001b[0mwatch\u001b[0m \u001b[0;34m=\u001b[0m \u001b[0mfind_watched_list\u001b[0m\u001b[0;34m(\u001b[0m\u001b[0mi\u001b[0m\u001b[0;34m)\u001b[0m\u001b[0;34m\u001b[0m\u001b[0;34m\u001b[0m\u001b[0m\n\u001b[1;32m      6\u001b[0m     \u001b[0mcnt\u001b[0m \u001b[0;34m+=\u001b[0m \u001b[0mlen\u001b[0m\u001b[0;34m(\u001b[0m\u001b[0mset\u001b[0m\u001b[0;34m(\u001b[0m\u001b[0mrec\u001b[0m\u001b[0;34m)\u001b[0m \u001b[0;34m&\u001b[0m \u001b[0mset\u001b[0m\u001b[0;34m(\u001b[0m\u001b[0mwatch\u001b[0m\u001b[0;34m)\u001b[0m\u001b[0;34m)\u001b[0m\u001b[0;34m\u001b[0m\u001b[0;34m\u001b[0m\u001b[0m\n",
            "\u001b[0;32m<ipython-input-20-26bc9c94ec61>\u001b[0m in \u001b[0;36mrec_movies\u001b[0;34m(uid)\u001b[0m\n\u001b[1;32m      2\u001b[0m   \u001b[0mmovies\u001b[0m \u001b[0;34m=\u001b[0m \u001b[0;34m[\u001b[0m\u001b[0;34m]\u001b[0m\u001b[0;34m\u001b[0m\u001b[0;34m\u001b[0m\u001b[0m\n\u001b[1;32m      3\u001b[0m   \u001b[0;32mfor\u001b[0m \u001b[0mb\u001b[0m \u001b[0;32min\u001b[0m \u001b[0mprediction\u001b[0m\u001b[0;34m.\u001b[0m\u001b[0mcolumns\u001b[0m\u001b[0;34m:\u001b[0m\u001b[0;34m\u001b[0m\u001b[0;34m\u001b[0m\u001b[0m\n\u001b[0;32m----> 4\u001b[0;31m       \u001b[0mprediction\u001b[0m\u001b[0;34m.\u001b[0m\u001b[0mloc\u001b[0m\u001b[0;34m[\u001b[0m\u001b[0muid\u001b[0m\u001b[0;34m]\u001b[0m\u001b[0;34m[\u001b[0m\u001b[0mb\u001b[0m\u001b[0;34m]\u001b[0m \u001b[0;34m>\u001b[0m \u001b[0mmean_array\u001b[0m\u001b[0;34m.\u001b[0m\u001b[0mmean\u001b[0m\u001b[0;34m(\u001b[0m\u001b[0;34m)\u001b[0m\u001b[0;34m\u001b[0m\u001b[0;34m\u001b[0m\u001b[0m\n\u001b[0m\u001b[1;32m      5\u001b[0m       \u001b[0mmovies\u001b[0m\u001b[0;34m.\u001b[0m\u001b[0mappend\u001b[0m\u001b[0;34m(\u001b[0m\u001b[0mb\u001b[0m\u001b[0;34m)\u001b[0m\u001b[0;34m\u001b[0m\u001b[0;34m\u001b[0m\u001b[0m\n\u001b[1;32m      6\u001b[0m   \u001b[0;32mreturn\u001b[0m \u001b[0mmovies\u001b[0m\u001b[0;34m\u001b[0m\u001b[0;34m\u001b[0m\u001b[0m\n",
            "\u001b[0;32m/usr/local/lib/python3.7/dist-packages/numpy/core/_methods.py\u001b[0m in \u001b[0;36m_mean\u001b[0;34m(a, axis, dtype, out, keepdims)\u001b[0m\n\u001b[1;32m    152\u001b[0m     \u001b[0;31m# Cast bool, unsigned int, and int to float64 by default\u001b[0m\u001b[0;34m\u001b[0m\u001b[0;34m\u001b[0m\u001b[0;34m\u001b[0m\u001b[0m\n\u001b[1;32m    153\u001b[0m     \u001b[0;32mif\u001b[0m \u001b[0mdtype\u001b[0m \u001b[0;32mis\u001b[0m \u001b[0;32mNone\u001b[0m\u001b[0;34m:\u001b[0m\u001b[0;34m\u001b[0m\u001b[0;34m\u001b[0m\u001b[0m\n\u001b[0;32m--> 154\u001b[0;31m         \u001b[0;32mif\u001b[0m \u001b[0missubclass\u001b[0m\u001b[0;34m(\u001b[0m\u001b[0marr\u001b[0m\u001b[0;34m.\u001b[0m\u001b[0mdtype\u001b[0m\u001b[0;34m.\u001b[0m\u001b[0mtype\u001b[0m\u001b[0;34m,\u001b[0m \u001b[0;34m(\u001b[0m\u001b[0mnt\u001b[0m\u001b[0;34m.\u001b[0m\u001b[0minteger\u001b[0m\u001b[0;34m,\u001b[0m \u001b[0mnt\u001b[0m\u001b[0;34m.\u001b[0m\u001b[0mbool_\u001b[0m\u001b[0;34m)\u001b[0m\u001b[0;34m)\u001b[0m\u001b[0;34m:\u001b[0m\u001b[0;34m\u001b[0m\u001b[0;34m\u001b[0m\u001b[0m\n\u001b[0m\u001b[1;32m    155\u001b[0m             \u001b[0mdtype\u001b[0m \u001b[0;34m=\u001b[0m \u001b[0mmu\u001b[0m\u001b[0;34m.\u001b[0m\u001b[0mdtype\u001b[0m\u001b[0;34m(\u001b[0m\u001b[0;34m'f8'\u001b[0m\u001b[0;34m)\u001b[0m\u001b[0;34m\u001b[0m\u001b[0;34m\u001b[0m\u001b[0m\n\u001b[1;32m    156\u001b[0m         \u001b[0;32melif\u001b[0m \u001b[0missubclass\u001b[0m\u001b[0;34m(\u001b[0m\u001b[0marr\u001b[0m\u001b[0;34m.\u001b[0m\u001b[0mdtype\u001b[0m\u001b[0;34m.\u001b[0m\u001b[0mtype\u001b[0m\u001b[0;34m,\u001b[0m \u001b[0mnt\u001b[0m\u001b[0;34m.\u001b[0m\u001b[0mfloat16\u001b[0m\u001b[0;34m)\u001b[0m\u001b[0;34m:\u001b[0m\u001b[0;34m\u001b[0m\u001b[0;34m\u001b[0m\u001b[0m\n",
            "\u001b[0;31mKeyboardInterrupt\u001b[0m: "
          ]
        }
      ]
    },
    {
      "cell_type": "markdown",
      "metadata": {
        "id": "CrV-S-peIcUG"
      },
      "source": [
        "## Scikit-Learn   \n",
        "sklearn에도 truncated SVD 모듈이 있었는데, scipy 알고리즘을 포함해서 알고리즘이 2개 였다. 파라미터에 algorithm{‘arpack’, ‘randomized’}, default=’randomized’\n",
        "SVD solver to use. **Either “arpack” for the ARPACK wrapper in SciPy (scipy.sparse.linalg.svds), or “randomized” for the randomized algorithm due to Halko (2009).** 이렇게 arpack, randomized 두 개 사용가능   \n",
        "[sklearn.decomposition.TruncatedSVD](https://scikit-learn.org/stable/modules/generated/sklearn.decomposition.TruncatedSVD.html)"
      ]
    },
    {
      "cell_type": "code",
      "metadata": {
        "id": "yWH7wVr0JFXs"
      },
      "source": [
        ""
      ],
      "execution_count": null,
      "outputs": []
    },
    {
      "cell_type": "markdown",
      "metadata": {
        "id": "DiZVeeLGUVoR"
      },
      "source": [
        "[Recommendation System With Implicit Feedback](http://sanghyukchun.github.io/95/)"
      ]
    }
  ]
}